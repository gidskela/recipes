{
  "nbformat": 4,
  "nbformat_minor": 0,
  "metadata": {
    "colab": {
      "provenance": [],
      "authorship_tag": "ABX9TyOdwXqXONFXhQInePirmy2C",
      "include_colab_link": true
    },
    "kernelspec": {
      "name": "python3",
      "display_name": "Python 3"
    },
    "language_info": {
      "name": "python"
    }
  },
  "cells": [
    {
      "cell_type": "markdown",
      "metadata": {
        "id": "view-in-github",
        "colab_type": "text"
      },
      "source": [
        "<a href=\"https://colab.research.google.com/github/gidskela/recipes/blob/main/SWC25_day2.ipynb\" target=\"_parent\"><img src=\"https://colab.research.google.com/assets/colab-badge.svg\" alt=\"Open In Colab\"/></a>"
      ]
    },
    {
      "cell_type": "code",
      "execution_count": 2,
      "metadata": {
        "colab": {
          "base_uri": "https://localhost:8080/"
        },
        "id": "KtEwtC7WXcg1",
        "outputId": "b0ccf319-11bf-492a-94b5-7fd974935a86"
      },
      "outputs": [
        {
          "output_type": "stream",
          "name": "stdout",
          "text": [
            "Hello\n"
          ]
        }
      ],
      "source": [
        "my_message = \"Hello\"\n",
        "print(my_message)"
      ]
    },
    {
      "cell_type": "code",
      "source": [
        "number_1 = 1\n",
        "number_2 = 3\n",
        "print(number_1 + number_2)"
      ],
      "metadata": {
        "colab": {
          "base_uri": "https://localhost:8080/"
        },
        "id": "6IdTd5FLYx2t",
        "outputId": "02bb664a-e67e-4812-be1d-33dc3204b27b"
      },
      "execution_count": 3,
      "outputs": [
        {
          "output_type": "stream",
          "name": "stdout",
          "text": [
            "4\n"
          ]
        }
      ]
    },
    {
      "cell_type": "code",
      "source": [
        "age = 42\n",
        "age = age + 3\n",
        "print('Age in three years:', age)"
      ],
      "metadata": {
        "colab": {
          "base_uri": "https://localhost:8080/"
        },
        "id": "YlZQwEGocjfE",
        "outputId": "01980631-4f8f-4de8-df6f-9d99cc5d6684"
      },
      "execution_count": 4,
      "outputs": [
        {
          "output_type": "stream",
          "name": "stdout",
          "text": [
            "Age in three years: 45\n"
          ]
        }
      ]
    },
    {
      "cell_type": "code",
      "source": [
        "my_text = \"Hello\"\n",
        "my_text[1]"
      ],
      "metadata": {
        "colab": {
          "base_uri": "https://localhost:8080/",
          "height": 35
        },
        "id": "wyXmhTfieHwF",
        "outputId": "e31545cb-8ae7-4d93-8029-3d9b6eddb6be"
      },
      "execution_count": 6,
      "outputs": [
        {
          "output_type": "execute_result",
          "data": {
            "text/plain": [
              "'e'"
            ],
            "application/vnd.google.colaboratory.intrinsic+json": {
              "type": "string"
            }
          },
          "metadata": {},
          "execution_count": 6
        }
      ]
    },
    {
      "cell_type": "code",
      "source": [
        "a_number = 1\n",
        "type(a_number)"
      ],
      "metadata": {
        "colab": {
          "base_uri": "https://localhost:8080/"
        },
        "id": "GXeCwCDfei-c",
        "outputId": "4baed55a-316d-40a4-91ab-1297f8aba5c2"
      },
      "execution_count": 8,
      "outputs": [
        {
          "output_type": "execute_result",
          "data": {
            "text/plain": [
              "int"
            ]
          },
          "metadata": {},
          "execution_count": 8
        }
      ]
    },
    {
      "cell_type": "code",
      "source": [
        "another_number = 1.0\n",
        "type(another_number)"
      ],
      "metadata": {
        "colab": {
          "base_uri": "https://localhost:8080/"
        },
        "id": "ltHHwIwZjqzd",
        "outputId": "5dbc3be8-e299-4cab-d186-7f12f0d59d0f"
      },
      "execution_count": 9,
      "outputs": [
        {
          "output_type": "execute_result",
          "data": {
            "text/plain": [
              "float"
            ]
          },
          "metadata": {},
          "execution_count": 9
        }
      ]
    },
    {
      "cell_type": "code",
      "source": [
        "type(my_message)"
      ],
      "metadata": {
        "colab": {
          "base_uri": "https://localhost:8080/"
        },
        "id": "b4fL7xe9jqwx",
        "outputId": "926e058a-5c55-4512-c34a-9ded7b209a9c"
      },
      "execution_count": 10,
      "outputs": [
        {
          "output_type": "execute_result",
          "data": {
            "text/plain": [
              "str"
            ]
          },
          "metadata": {},
          "execution_count": 10
        }
      ]
    },
    {
      "cell_type": "code",
      "source": [
        "\"hello\" + \" world\""
      ],
      "metadata": {
        "colab": {
          "base_uri": "https://localhost:8080/",
          "height": 35
        },
        "id": "rvRzIvN-faZS",
        "outputId": "bc4a3e1c-0f7a-4594-917d-7b64c637d451"
      },
      "execution_count": 13,
      "outputs": [
        {
          "output_type": "execute_result",
          "data": {
            "text/plain": [
              "'hello world'"
            ],
            "application/vnd.google.colaboratory.intrinsic+json": {
              "type": "string"
            }
          },
          "metadata": {},
          "execution_count": 13
        }
      ]
    },
    {
      "cell_type": "code",
      "source": [
        "\"hello \" * 10"
      ],
      "metadata": {
        "colab": {
          "base_uri": "https://localhost:8080/",
          "height": 35
        },
        "id": "XhbN529kkoGr",
        "outputId": "81afe2bf-8c5d-435b-eb0e-1f4645bfe5d3"
      },
      "execution_count": 15,
      "outputs": [
        {
          "output_type": "execute_result",
          "data": {
            "text/plain": [
              "'hellohellohellohellohellohellohellohellohellohello'"
            ],
            "application/vnd.google.colaboratory.intrinsic+json": {
              "type": "string"
            }
          },
          "metadata": {},
          "execution_count": 15
        }
      ]
    },
    {
      "cell_type": "code",
      "source": [
        "print(max(\"A\", \"B\"))"
      ],
      "metadata": {
        "colab": {
          "base_uri": "https://localhost:8080/"
        },
        "id": "kPWzyHl1k0fj",
        "outputId": "460c927f-baba-4e3c-d6ee-9cc32fc8f258"
      },
      "execution_count": 18,
      "outputs": [
        {
          "output_type": "stream",
          "name": "stdout",
          "text": [
            "B\n"
          ]
        }
      ]
    },
    {
      "cell_type": "code",
      "source": [
        "round(3.71, 1)"
      ],
      "metadata": {
        "colab": {
          "base_uri": "https://localhost:8080/"
        },
        "id": "xYybLQPaqQNE",
        "outputId": "ecdca88b-6ab6-4bc6-f552-f97feed08278"
      },
      "execution_count": 20,
      "outputs": [
        {
          "output_type": "execute_result",
          "data": {
            "text/plain": [
              "3.7"
            ]
          },
          "metadata": {},
          "execution_count": 20
        }
      ]
    },
    {
      "cell_type": "code",
      "source": [
        "\"Hello\".lower()"
      ],
      "metadata": {
        "colab": {
          "base_uri": "https://localhost:8080/",
          "height": 35
        },
        "id": "SIY46lTxq4Di",
        "outputId": "95f6a175-b97b-4650-e571-3ec1ec1f40f4"
      },
      "execution_count": 21,
      "outputs": [
        {
          "output_type": "execute_result",
          "data": {
            "text/plain": [
              "'hello'"
            ],
            "application/vnd.google.colaboratory.intrinsic+json": {
              "type": "string"
            }
          },
          "metadata": {},
          "execution_count": 21
        }
      ]
    },
    {
      "cell_type": "code",
      "source": [
        "import math"
      ],
      "metadata": {
        "id": "orWmASBDqXsA"
      },
      "execution_count": 23,
      "outputs": []
    },
    {
      "cell_type": "code",
      "source": [
        "print(\"pi is\", math.pi)\n",
        "print(\"cos(pi) is\", math.cos(math.pi))"
      ],
      "metadata": {
        "colab": {
          "base_uri": "https://localhost:8080/"
        },
        "id": "C_JGhZy5xyXC",
        "outputId": "005f679c-2c97-4f12-a09a-4fcdf7b33be3"
      },
      "execution_count": 26,
      "outputs": [
        {
          "output_type": "stream",
          "name": "stdout",
          "text": [
            "pi is 3.141592653589793\n",
            "cos(pi) is -1.0\n"
          ]
        }
      ]
    },
    {
      "cell_type": "code",
      "source": [
        "from math import cos, pi\n",
        "print(\"cos(pi) is\", cos(pi))"
      ],
      "metadata": {
        "colab": {
          "base_uri": "https://localhost:8080/"
        },
        "id": "Q-Ull9Nlx7Th",
        "outputId": "47dd1a05-2cee-4849-9672-6893b3783e0c"
      },
      "execution_count": 29,
      "outputs": [
        {
          "output_type": "stream",
          "name": "stdout",
          "text": [
            "cos(pi) is -1.0\n"
          ]
        }
      ]
    },
    {
      "cell_type": "code",
      "source": [
        "import math as m\n",
        "print(\"cos(pi) is\", m.cos(m.pi))"
      ],
      "metadata": {
        "colab": {
          "base_uri": "https://localhost:8080/"
        },
        "id": "5UNOocx3yltY",
        "outputId": "1dc790d9-abd0-4f00-e116-ca01bd340858"
      },
      "execution_count": 30,
      "outputs": [
        {
          "output_type": "stream",
          "name": "stdout",
          "text": [
            "cos(pi) is -1.0\n"
          ]
        }
      ]
    },
    {
      "cell_type": "code",
      "source": [
        "bases = 'ACTTGCTTGAC'\n",
        "from random import randrange\n",
        "random_index = randrange(len(bases))\n",
        "print(bases[random_index])"
      ],
      "metadata": {
        "colab": {
          "base_uri": "https://localhost:8080/"
        },
        "id": "ZEMtMYCcyvYx",
        "outputId": "ee98d37f-d55e-48f5-bd43-724896b02612"
      },
      "execution_count": 33,
      "outputs": [
        {
          "output_type": "stream",
          "name": "stdout",
          "text": [
            "G\n"
          ]
        }
      ]
    },
    {
      "cell_type": "code",
      "source": [
        "import pandas as pd\n",
        "\n",
        "data_oceania = pd.read_csv(\"gapminder_gdp_oceania.csv\")"
      ],
      "metadata": {
        "id": "DgieNLTB122S"
      },
      "execution_count": 35,
      "outputs": []
    },
    {
      "cell_type": "code",
      "source": [
        "print(data_oceania)"
      ],
      "metadata": {
        "colab": {
          "base_uri": "https://localhost:8080/"
        },
        "id": "F8SWDv-Y2gi5",
        "outputId": "667725c7-4095-48c5-9b02-637d3bc330a7"
      },
      "execution_count": 36,
      "outputs": [
        {
          "output_type": "stream",
          "name": "stdout",
          "text": [
            "       country  gdpPercap_1952  gdpPercap_1957  gdpPercap_1962  \\\n",
            "0    Australia     10039.59564     10949.64959     12217.22686   \n",
            "1  New Zealand     10556.57566     12247.39532     13175.67800   \n",
            "\n",
            "   gdpPercap_1967  gdpPercap_1972  gdpPercap_1977  gdpPercap_1982  \\\n",
            "0     14526.12465     16788.62948     18334.19751     19477.00928   \n",
            "1     14463.91893     16046.03728     16233.71770     17632.41040   \n",
            "\n",
            "   gdpPercap_1987  gdpPercap_1992  gdpPercap_1997  gdpPercap_2002  \\\n",
            "0     21888.88903     23424.76683     26997.93657     30687.75473   \n",
            "1     19007.19129     18363.32494     21050.41377     23189.80135   \n",
            "\n",
            "   gdpPercap_2007  \n",
            "0     34435.36744  \n",
            "1     25185.00911  \n"
          ]
        }
      ]
    },
    {
      "cell_type": "code",
      "source": [
        "data_oceania_country = pd.read_csv(\"gapminder_gdp_oceania.csv\", index_col = \"country\")\n",
        "print(data_oceania_country)"
      ],
      "metadata": {
        "colab": {
          "base_uri": "https://localhost:8080/"
        },
        "id": "M8qM7-ja2kHn",
        "outputId": "4359aa3b-242e-4e50-e200-43aca2077efd"
      },
      "execution_count": 37,
      "outputs": [
        {
          "output_type": "stream",
          "name": "stdout",
          "text": [
            "             gdpPercap_1952  gdpPercap_1957  gdpPercap_1962  gdpPercap_1967  \\\n",
            "country                                                                       \n",
            "Australia       10039.59564     10949.64959     12217.22686     14526.12465   \n",
            "New Zealand     10556.57566     12247.39532     13175.67800     14463.91893   \n",
            "\n",
            "             gdpPercap_1972  gdpPercap_1977  gdpPercap_1982  gdpPercap_1987  \\\n",
            "country                                                                       \n",
            "Australia       16788.62948     18334.19751     19477.00928     21888.88903   \n",
            "New Zealand     16046.03728     16233.71770     17632.41040     19007.19129   \n",
            "\n",
            "             gdpPercap_1992  gdpPercap_1997  gdpPercap_2002  gdpPercap_2007  \n",
            "country                                                                      \n",
            "Australia       23424.76683     26997.93657     30687.75473     34435.36744  \n",
            "New Zealand     18363.32494     21050.41377     23189.80135     25185.00911  \n"
          ]
        }
      ]
    },
    {
      "cell_type": "code",
      "source": [
        "data_oceania_country.info()"
      ],
      "metadata": {
        "colab": {
          "base_uri": "https://localhost:8080/"
        },
        "id": "HHztYAL85NEV",
        "outputId": "747773a7-d5e7-4396-93b5-58a28a8242b0"
      },
      "execution_count": 38,
      "outputs": [
        {
          "output_type": "stream",
          "name": "stdout",
          "text": [
            "<class 'pandas.core.frame.DataFrame'>\n",
            "Index: 2 entries, Australia to New Zealand\n",
            "Data columns (total 12 columns):\n",
            " #   Column          Non-Null Count  Dtype  \n",
            "---  ------          --------------  -----  \n",
            " 0   gdpPercap_1952  2 non-null      float64\n",
            " 1   gdpPercap_1957  2 non-null      float64\n",
            " 2   gdpPercap_1962  2 non-null      float64\n",
            " 3   gdpPercap_1967  2 non-null      float64\n",
            " 4   gdpPercap_1972  2 non-null      float64\n",
            " 5   gdpPercap_1977  2 non-null      float64\n",
            " 6   gdpPercap_1982  2 non-null      float64\n",
            " 7   gdpPercap_1987  2 non-null      float64\n",
            " 8   gdpPercap_1992  2 non-null      float64\n",
            " 9   gdpPercap_1997  2 non-null      float64\n",
            " 10  gdpPercap_2002  2 non-null      float64\n",
            " 11  gdpPercap_2007  2 non-null      float64\n",
            "dtypes: float64(12)\n",
            "memory usage: 316.0+ bytes\n"
          ]
        }
      ]
    },
    {
      "cell_type": "code",
      "source": [
        "print(data_oceania_country.columns)"
      ],
      "metadata": {
        "colab": {
          "base_uri": "https://localhost:8080/"
        },
        "id": "zhAf4t5n5gbA",
        "outputId": "2087d181-f076-418c-946a-44e1651af149"
      },
      "execution_count": 39,
      "outputs": [
        {
          "output_type": "stream",
          "name": "stdout",
          "text": [
            "Index(['gdpPercap_1952', 'gdpPercap_1957', 'gdpPercap_1962', 'gdpPercap_1967',\n",
            "       'gdpPercap_1972', 'gdpPercap_1977', 'gdpPercap_1982', 'gdpPercap_1987',\n",
            "       'gdpPercap_1992', 'gdpPercap_1997', 'gdpPercap_2002', 'gdpPercap_2007'],\n",
            "      dtype='object')\n"
          ]
        }
      ]
    },
    {
      "cell_type": "code",
      "source": [
        "print(data_oceania_country.T)"
      ],
      "metadata": {
        "colab": {
          "base_uri": "https://localhost:8080/"
        },
        "id": "9O7zzrls57lz",
        "outputId": "2f10b3b2-828a-4db4-e072-4ff2c3e6d58d"
      },
      "execution_count": 40,
      "outputs": [
        {
          "output_type": "stream",
          "name": "stdout",
          "text": [
            "country           Australia  New Zealand\n",
            "gdpPercap_1952  10039.59564  10556.57566\n",
            "gdpPercap_1957  10949.64959  12247.39532\n",
            "gdpPercap_1962  12217.22686  13175.67800\n",
            "gdpPercap_1967  14526.12465  14463.91893\n",
            "gdpPercap_1972  16788.62948  16046.03728\n",
            "gdpPercap_1977  18334.19751  16233.71770\n",
            "gdpPercap_1982  19477.00928  17632.41040\n",
            "gdpPercap_1987  21888.88903  19007.19129\n",
            "gdpPercap_1992  23424.76683  18363.32494\n",
            "gdpPercap_1997  26997.93657  21050.41377\n",
            "gdpPercap_2002  30687.75473  23189.80135\n",
            "gdpPercap_2007  34435.36744  25185.00911\n"
          ]
        }
      ]
    },
    {
      "cell_type": "code",
      "source": [
        "data_oceania_country.describe()"
      ],
      "metadata": {
        "colab": {
          "base_uri": "https://localhost:8080/",
          "height": 320
        },
        "id": "pnX-VN1U6eZG",
        "outputId": "74d6e496-c446-420c-b9cf-cdf946f1cc5a"
      },
      "execution_count": 41,
      "outputs": [
        {
          "output_type": "execute_result",
          "data": {
            "text/plain": [
              "       gdpPercap_1952  gdpPercap_1957  gdpPercap_1962  gdpPercap_1967  \\\n",
              "count        2.000000        2.000000        2.000000        2.000000   \n",
              "mean     10298.085650    11598.522455    12696.452430    14495.021790   \n",
              "std        365.560078      917.644806      677.727301       43.986086   \n",
              "min      10039.595640    10949.649590    12217.226860    14463.918930   \n",
              "25%      10168.840645    11274.086022    12456.839645    14479.470360   \n",
              "50%      10298.085650    11598.522455    12696.452430    14495.021790   \n",
              "75%      10427.330655    11922.958888    12936.065215    14510.573220   \n",
              "max      10556.575660    12247.395320    13175.678000    14526.124650   \n",
              "\n",
              "       gdpPercap_1972  gdpPercap_1977  gdpPercap_1982  gdpPercap_1987  \\\n",
              "count         2.00000        2.000000        2.000000        2.000000   \n",
              "mean      16417.33338    17283.957605    18554.709840    20448.040160   \n",
              "std         525.09198     1485.263517     1304.328377     2037.668013   \n",
              "min       16046.03728    16233.717700    17632.410400    19007.191290   \n",
              "25%       16231.68533    16758.837652    18093.560120    19727.615725   \n",
              "50%       16417.33338    17283.957605    18554.709840    20448.040160   \n",
              "75%       16602.98143    17809.077558    19015.859560    21168.464595   \n",
              "max       16788.62948    18334.197510    19477.009280    21888.889030   \n",
              "\n",
              "       gdpPercap_1992  gdpPercap_1997  gdpPercap_2002  gdpPercap_2007  \n",
              "count        2.000000        2.000000        2.000000        2.000000  \n",
              "mean     20894.045885    24024.175170    26938.778040    29810.188275  \n",
              "std       3578.979883     4205.533703     5301.853680     6540.991104  \n",
              "min      18363.324940    21050.413770    23189.801350    25185.009110  \n",
              "25%      19628.685412    22537.294470    25064.289695    27497.598692  \n",
              "50%      20894.045885    24024.175170    26938.778040    29810.188275  \n",
              "75%      22159.406358    25511.055870    28813.266385    32122.777858  \n",
              "max      23424.766830    26997.936570    30687.754730    34435.367440  "
            ],
            "text/html": [
              "\n",
              "  <div id=\"df-44909678-870b-4a75-8d98-bf872df937a9\" class=\"colab-df-container\">\n",
              "    <div>\n",
              "<style scoped>\n",
              "    .dataframe tbody tr th:only-of-type {\n",
              "        vertical-align: middle;\n",
              "    }\n",
              "\n",
              "    .dataframe tbody tr th {\n",
              "        vertical-align: top;\n",
              "    }\n",
              "\n",
              "    .dataframe thead th {\n",
              "        text-align: right;\n",
              "    }\n",
              "</style>\n",
              "<table border=\"1\" class=\"dataframe\">\n",
              "  <thead>\n",
              "    <tr style=\"text-align: right;\">\n",
              "      <th></th>\n",
              "      <th>gdpPercap_1952</th>\n",
              "      <th>gdpPercap_1957</th>\n",
              "      <th>gdpPercap_1962</th>\n",
              "      <th>gdpPercap_1967</th>\n",
              "      <th>gdpPercap_1972</th>\n",
              "      <th>gdpPercap_1977</th>\n",
              "      <th>gdpPercap_1982</th>\n",
              "      <th>gdpPercap_1987</th>\n",
              "      <th>gdpPercap_1992</th>\n",
              "      <th>gdpPercap_1997</th>\n",
              "      <th>gdpPercap_2002</th>\n",
              "      <th>gdpPercap_2007</th>\n",
              "    </tr>\n",
              "  </thead>\n",
              "  <tbody>\n",
              "    <tr>\n",
              "      <th>count</th>\n",
              "      <td>2.000000</td>\n",
              "      <td>2.000000</td>\n",
              "      <td>2.000000</td>\n",
              "      <td>2.000000</td>\n",
              "      <td>2.00000</td>\n",
              "      <td>2.000000</td>\n",
              "      <td>2.000000</td>\n",
              "      <td>2.000000</td>\n",
              "      <td>2.000000</td>\n",
              "      <td>2.000000</td>\n",
              "      <td>2.000000</td>\n",
              "      <td>2.000000</td>\n",
              "    </tr>\n",
              "    <tr>\n",
              "      <th>mean</th>\n",
              "      <td>10298.085650</td>\n",
              "      <td>11598.522455</td>\n",
              "      <td>12696.452430</td>\n",
              "      <td>14495.021790</td>\n",
              "      <td>16417.33338</td>\n",
              "      <td>17283.957605</td>\n",
              "      <td>18554.709840</td>\n",
              "      <td>20448.040160</td>\n",
              "      <td>20894.045885</td>\n",
              "      <td>24024.175170</td>\n",
              "      <td>26938.778040</td>\n",
              "      <td>29810.188275</td>\n",
              "    </tr>\n",
              "    <tr>\n",
              "      <th>std</th>\n",
              "      <td>365.560078</td>\n",
              "      <td>917.644806</td>\n",
              "      <td>677.727301</td>\n",
              "      <td>43.986086</td>\n",
              "      <td>525.09198</td>\n",
              "      <td>1485.263517</td>\n",
              "      <td>1304.328377</td>\n",
              "      <td>2037.668013</td>\n",
              "      <td>3578.979883</td>\n",
              "      <td>4205.533703</td>\n",
              "      <td>5301.853680</td>\n",
              "      <td>6540.991104</td>\n",
              "    </tr>\n",
              "    <tr>\n",
              "      <th>min</th>\n",
              "      <td>10039.595640</td>\n",
              "      <td>10949.649590</td>\n",
              "      <td>12217.226860</td>\n",
              "      <td>14463.918930</td>\n",
              "      <td>16046.03728</td>\n",
              "      <td>16233.717700</td>\n",
              "      <td>17632.410400</td>\n",
              "      <td>19007.191290</td>\n",
              "      <td>18363.324940</td>\n",
              "      <td>21050.413770</td>\n",
              "      <td>23189.801350</td>\n",
              "      <td>25185.009110</td>\n",
              "    </tr>\n",
              "    <tr>\n",
              "      <th>25%</th>\n",
              "      <td>10168.840645</td>\n",
              "      <td>11274.086022</td>\n",
              "      <td>12456.839645</td>\n",
              "      <td>14479.470360</td>\n",
              "      <td>16231.68533</td>\n",
              "      <td>16758.837652</td>\n",
              "      <td>18093.560120</td>\n",
              "      <td>19727.615725</td>\n",
              "      <td>19628.685412</td>\n",
              "      <td>22537.294470</td>\n",
              "      <td>25064.289695</td>\n",
              "      <td>27497.598692</td>\n",
              "    </tr>\n",
              "    <tr>\n",
              "      <th>50%</th>\n",
              "      <td>10298.085650</td>\n",
              "      <td>11598.522455</td>\n",
              "      <td>12696.452430</td>\n",
              "      <td>14495.021790</td>\n",
              "      <td>16417.33338</td>\n",
              "      <td>17283.957605</td>\n",
              "      <td>18554.709840</td>\n",
              "      <td>20448.040160</td>\n",
              "      <td>20894.045885</td>\n",
              "      <td>24024.175170</td>\n",
              "      <td>26938.778040</td>\n",
              "      <td>29810.188275</td>\n",
              "    </tr>\n",
              "    <tr>\n",
              "      <th>75%</th>\n",
              "      <td>10427.330655</td>\n",
              "      <td>11922.958888</td>\n",
              "      <td>12936.065215</td>\n",
              "      <td>14510.573220</td>\n",
              "      <td>16602.98143</td>\n",
              "      <td>17809.077558</td>\n",
              "      <td>19015.859560</td>\n",
              "      <td>21168.464595</td>\n",
              "      <td>22159.406358</td>\n",
              "      <td>25511.055870</td>\n",
              "      <td>28813.266385</td>\n",
              "      <td>32122.777858</td>\n",
              "    </tr>\n",
              "    <tr>\n",
              "      <th>max</th>\n",
              "      <td>10556.575660</td>\n",
              "      <td>12247.395320</td>\n",
              "      <td>13175.678000</td>\n",
              "      <td>14526.124650</td>\n",
              "      <td>16788.62948</td>\n",
              "      <td>18334.197510</td>\n",
              "      <td>19477.009280</td>\n",
              "      <td>21888.889030</td>\n",
              "      <td>23424.766830</td>\n",
              "      <td>26997.936570</td>\n",
              "      <td>30687.754730</td>\n",
              "      <td>34435.367440</td>\n",
              "    </tr>\n",
              "  </tbody>\n",
              "</table>\n",
              "</div>\n",
              "    <div class=\"colab-df-buttons\">\n",
              "\n",
              "  <div class=\"colab-df-container\">\n",
              "    <button class=\"colab-df-convert\" onclick=\"convertToInteractive('df-44909678-870b-4a75-8d98-bf872df937a9')\"\n",
              "            title=\"Convert this dataframe to an interactive table.\"\n",
              "            style=\"display:none;\">\n",
              "\n",
              "  <svg xmlns=\"http://www.w3.org/2000/svg\" height=\"24px\" viewBox=\"0 -960 960 960\">\n",
              "    <path d=\"M120-120v-720h720v720H120Zm60-500h600v-160H180v160Zm220 220h160v-160H400v160Zm0 220h160v-160H400v160ZM180-400h160v-160H180v160Zm440 0h160v-160H620v160ZM180-180h160v-160H180v160Zm440 0h160v-160H620v160Z\"/>\n",
              "  </svg>\n",
              "    </button>\n",
              "\n",
              "  <style>\n",
              "    .colab-df-container {\n",
              "      display:flex;\n",
              "      gap: 12px;\n",
              "    }\n",
              "\n",
              "    .colab-df-convert {\n",
              "      background-color: #E8F0FE;\n",
              "      border: none;\n",
              "      border-radius: 50%;\n",
              "      cursor: pointer;\n",
              "      display: none;\n",
              "      fill: #1967D2;\n",
              "      height: 32px;\n",
              "      padding: 0 0 0 0;\n",
              "      width: 32px;\n",
              "    }\n",
              "\n",
              "    .colab-df-convert:hover {\n",
              "      background-color: #E2EBFA;\n",
              "      box-shadow: 0px 1px 2px rgba(60, 64, 67, 0.3), 0px 1px 3px 1px rgba(60, 64, 67, 0.15);\n",
              "      fill: #174EA6;\n",
              "    }\n",
              "\n",
              "    .colab-df-buttons div {\n",
              "      margin-bottom: 4px;\n",
              "    }\n",
              "\n",
              "    [theme=dark] .colab-df-convert {\n",
              "      background-color: #3B4455;\n",
              "      fill: #D2E3FC;\n",
              "    }\n",
              "\n",
              "    [theme=dark] .colab-df-convert:hover {\n",
              "      background-color: #434B5C;\n",
              "      box-shadow: 0px 1px 3px 1px rgba(0, 0, 0, 0.15);\n",
              "      filter: drop-shadow(0px 1px 2px rgba(0, 0, 0, 0.3));\n",
              "      fill: #FFFFFF;\n",
              "    }\n",
              "  </style>\n",
              "\n",
              "    <script>\n",
              "      const buttonEl =\n",
              "        document.querySelector('#df-44909678-870b-4a75-8d98-bf872df937a9 button.colab-df-convert');\n",
              "      buttonEl.style.display =\n",
              "        google.colab.kernel.accessAllowed ? 'block' : 'none';\n",
              "\n",
              "      async function convertToInteractive(key) {\n",
              "        const element = document.querySelector('#df-44909678-870b-4a75-8d98-bf872df937a9');\n",
              "        const dataTable =\n",
              "          await google.colab.kernel.invokeFunction('convertToInteractive',\n",
              "                                                    [key], {});\n",
              "        if (!dataTable) return;\n",
              "\n",
              "        const docLinkHtml = 'Like what you see? Visit the ' +\n",
              "          '<a target=\"_blank\" href=https://colab.research.google.com/notebooks/data_table.ipynb>data table notebook</a>'\n",
              "          + ' to learn more about interactive tables.';\n",
              "        element.innerHTML = '';\n",
              "        dataTable['output_type'] = 'display_data';\n",
              "        await google.colab.output.renderOutput(dataTable, element);\n",
              "        const docLink = document.createElement('div');\n",
              "        docLink.innerHTML = docLinkHtml;\n",
              "        element.appendChild(docLink);\n",
              "      }\n",
              "    </script>\n",
              "  </div>\n",
              "\n",
              "\n",
              "    <div id=\"df-37e95110-2675-45cf-a154-40ebe455ac01\">\n",
              "      <button class=\"colab-df-quickchart\" onclick=\"quickchart('df-37e95110-2675-45cf-a154-40ebe455ac01')\"\n",
              "                title=\"Suggest charts\"\n",
              "                style=\"display:none;\">\n",
              "\n",
              "<svg xmlns=\"http://www.w3.org/2000/svg\" height=\"24px\"viewBox=\"0 0 24 24\"\n",
              "     width=\"24px\">\n",
              "    <g>\n",
              "        <path d=\"M19 3H5c-1.1 0-2 .9-2 2v14c0 1.1.9 2 2 2h14c1.1 0 2-.9 2-2V5c0-1.1-.9-2-2-2zM9 17H7v-7h2v7zm4 0h-2V7h2v10zm4 0h-2v-4h2v4z\"/>\n",
              "    </g>\n",
              "</svg>\n",
              "      </button>\n",
              "\n",
              "<style>\n",
              "  .colab-df-quickchart {\n",
              "      --bg-color: #E8F0FE;\n",
              "      --fill-color: #1967D2;\n",
              "      --hover-bg-color: #E2EBFA;\n",
              "      --hover-fill-color: #174EA6;\n",
              "      --disabled-fill-color: #AAA;\n",
              "      --disabled-bg-color: #DDD;\n",
              "  }\n",
              "\n",
              "  [theme=dark] .colab-df-quickchart {\n",
              "      --bg-color: #3B4455;\n",
              "      --fill-color: #D2E3FC;\n",
              "      --hover-bg-color: #434B5C;\n",
              "      --hover-fill-color: #FFFFFF;\n",
              "      --disabled-bg-color: #3B4455;\n",
              "      --disabled-fill-color: #666;\n",
              "  }\n",
              "\n",
              "  .colab-df-quickchart {\n",
              "    background-color: var(--bg-color);\n",
              "    border: none;\n",
              "    border-radius: 50%;\n",
              "    cursor: pointer;\n",
              "    display: none;\n",
              "    fill: var(--fill-color);\n",
              "    height: 32px;\n",
              "    padding: 0;\n",
              "    width: 32px;\n",
              "  }\n",
              "\n",
              "  .colab-df-quickchart:hover {\n",
              "    background-color: var(--hover-bg-color);\n",
              "    box-shadow: 0 1px 2px rgba(60, 64, 67, 0.3), 0 1px 3px 1px rgba(60, 64, 67, 0.15);\n",
              "    fill: var(--button-hover-fill-color);\n",
              "  }\n",
              "\n",
              "  .colab-df-quickchart-complete:disabled,\n",
              "  .colab-df-quickchart-complete:disabled:hover {\n",
              "    background-color: var(--disabled-bg-color);\n",
              "    fill: var(--disabled-fill-color);\n",
              "    box-shadow: none;\n",
              "  }\n",
              "\n",
              "  .colab-df-spinner {\n",
              "    border: 2px solid var(--fill-color);\n",
              "    border-color: transparent;\n",
              "    border-bottom-color: var(--fill-color);\n",
              "    animation:\n",
              "      spin 1s steps(1) infinite;\n",
              "  }\n",
              "\n",
              "  @keyframes spin {\n",
              "    0% {\n",
              "      border-color: transparent;\n",
              "      border-bottom-color: var(--fill-color);\n",
              "      border-left-color: var(--fill-color);\n",
              "    }\n",
              "    20% {\n",
              "      border-color: transparent;\n",
              "      border-left-color: var(--fill-color);\n",
              "      border-top-color: var(--fill-color);\n",
              "    }\n",
              "    30% {\n",
              "      border-color: transparent;\n",
              "      border-left-color: var(--fill-color);\n",
              "      border-top-color: var(--fill-color);\n",
              "      border-right-color: var(--fill-color);\n",
              "    }\n",
              "    40% {\n",
              "      border-color: transparent;\n",
              "      border-right-color: var(--fill-color);\n",
              "      border-top-color: var(--fill-color);\n",
              "    }\n",
              "    60% {\n",
              "      border-color: transparent;\n",
              "      border-right-color: var(--fill-color);\n",
              "    }\n",
              "    80% {\n",
              "      border-color: transparent;\n",
              "      border-right-color: var(--fill-color);\n",
              "      border-bottom-color: var(--fill-color);\n",
              "    }\n",
              "    90% {\n",
              "      border-color: transparent;\n",
              "      border-bottom-color: var(--fill-color);\n",
              "    }\n",
              "  }\n",
              "</style>\n",
              "\n",
              "      <script>\n",
              "        async function quickchart(key) {\n",
              "          const quickchartButtonEl =\n",
              "            document.querySelector('#' + key + ' button');\n",
              "          quickchartButtonEl.disabled = true;  // To prevent multiple clicks.\n",
              "          quickchartButtonEl.classList.add('colab-df-spinner');\n",
              "          try {\n",
              "            const charts = await google.colab.kernel.invokeFunction(\n",
              "                'suggestCharts', [key], {});\n",
              "          } catch (error) {\n",
              "            console.error('Error during call to suggestCharts:', error);\n",
              "          }\n",
              "          quickchartButtonEl.classList.remove('colab-df-spinner');\n",
              "          quickchartButtonEl.classList.add('colab-df-quickchart-complete');\n",
              "        }\n",
              "        (() => {\n",
              "          let quickchartButtonEl =\n",
              "            document.querySelector('#df-37e95110-2675-45cf-a154-40ebe455ac01 button');\n",
              "          quickchartButtonEl.style.display =\n",
              "            google.colab.kernel.accessAllowed ? 'block' : 'none';\n",
              "        })();\n",
              "      </script>\n",
              "    </div>\n",
              "\n",
              "    </div>\n",
              "  </div>\n"
            ],
            "application/vnd.google.colaboratory.intrinsic+json": {
              "type": "dataframe",
              "summary": "{\n  \"name\": \"data_oceania_country\",\n  \"rows\": 8,\n  \"fields\": [\n    {\n      \"column\": \"gdpPercap_1952\",\n      \"properties\": {\n        \"dtype\": \"number\",\n        \"std\": 4685.568995317567,\n        \"min\": 2.0,\n        \"max\": 10556.57566,\n        \"num_unique_values\": 7,\n        \"samples\": [\n          2.0,\n          10298.08565,\n          10427.330655\n        ],\n        \"semantic_type\": \"\",\n        \"description\": \"\"\n      }\n    },\n    {\n      \"column\": \"gdpPercap_1957\",\n      \"properties\": {\n        \"dtype\": \"number\",\n        \"std\": 5176.564649129396,\n        \"min\": 2.0,\n        \"max\": 12247.39532,\n        \"num_unique_values\": 7,\n        \"samples\": [\n          2.0,\n          11598.522455,\n          11922.9588875\n        ],\n        \"semantic_type\": \"\",\n        \"description\": \"\"\n      }\n    },\n    {\n      \"column\": \"gdpPercap_1962\",\n      \"properties\": {\n        \"dtype\": \"number\",\n        \"std\": 5730.000946982035,\n        \"min\": 2.0,\n        \"max\": 13175.678,\n        \"num_unique_values\": 7,\n        \"samples\": [\n          2.0,\n          12696.452430000001,\n          12936.065215\n        ],\n        \"semantic_type\": \"\",\n        \"description\": \"\"\n      }\n    },\n    {\n      \"column\": \"gdpPercap_1967\",\n      \"properties\": {\n        \"dtype\": \"number\",\n        \"std\": 6699.282733002146,\n        \"min\": 2.0,\n        \"max\": 14526.12465,\n        \"num_unique_values\": 7,\n        \"samples\": [\n          2.0,\n          14495.021789999999,\n          14510.57322\n        ],\n        \"semantic_type\": \"\",\n        \"description\": \"\"\n      }\n    },\n    {\n      \"column\": \"gdpPercap_1972\",\n      \"properties\": {\n        \"dtype\": \"number\",\n        \"std\": 7482.348133630377,\n        \"min\": 2.0,\n        \"max\": 16788.62948,\n        \"num_unique_values\": 7,\n        \"samples\": [\n          2.0,\n          16417.33338,\n          16602.98143\n        ],\n        \"semantic_type\": \"\",\n        \"description\": \"\"\n      }\n    },\n    {\n      \"column\": \"gdpPercap_1977\",\n      \"properties\": {\n        \"dtype\": \"number\",\n        \"std\": 7692.585610544685,\n        \"min\": 2.0,\n        \"max\": 18334.19751,\n        \"num_unique_values\": 7,\n        \"samples\": [\n          2.0,\n          17283.957605,\n          17809.0775575\n        ],\n        \"semantic_type\": \"\",\n        \"description\": \"\"\n      }\n    },\n    {\n      \"column\": \"gdpPercap_1982\",\n      \"properties\": {\n        \"dtype\": \"number\",\n        \"std\": 8312.405748743615,\n        \"min\": 2.0,\n        \"max\": 19477.00928,\n        \"num_unique_values\": 7,\n        \"samples\": [\n          2.0,\n          18554.70984,\n          19015.859559999997\n        ],\n        \"semantic_type\": \"\",\n        \"description\": \"\"\n      }\n    },\n    {\n      \"column\": \"gdpPercap_1987\",\n      \"properties\": {\n        \"dtype\": \"number\",\n        \"std\": 9051.00528987702,\n        \"min\": 2.0,\n        \"max\": 21888.88903,\n        \"num_unique_values\": 7,\n        \"samples\": [\n          2.0,\n          20448.040159999997,\n          21168.464594999998\n        ],\n        \"semantic_type\": \"\",\n        \"description\": \"\"\n      }\n    },\n    {\n      \"column\": \"gdpPercap_1992\",\n      \"properties\": {\n        \"dtype\": \"number\",\n        \"std\": 9022.412872753388,\n        \"min\": 2.0,\n        \"max\": 23424.76683,\n        \"num_unique_values\": 7,\n        \"samples\": [\n          2.0,\n          20894.045885,\n          22159.4063575\n        ],\n        \"semantic_type\": \"\",\n        \"description\": \"\"\n      }\n    },\n    {\n      \"column\": \"gdpPercap_1997\",\n      \"properties\": {\n        \"dtype\": \"number\",\n        \"std\": 10362.704012998032,\n        \"min\": 2.0,\n        \"max\": 26997.93657,\n        \"num_unique_values\": 7,\n        \"samples\": [\n          2.0,\n          24024.175170000002,\n          25511.05587\n        ],\n        \"semantic_type\": \"\",\n        \"description\": \"\"\n      }\n    },\n    {\n      \"column\": \"gdpPercap_2002\",\n      \"properties\": {\n        \"dtype\": \"number\",\n        \"std\": 11550.86887199367,\n        \"min\": 2.0,\n        \"max\": 30687.75473,\n        \"num_unique_values\": 7,\n        \"samples\": [\n          2.0,\n          26938.77804,\n          28813.266385000003\n        ],\n        \"semantic_type\": \"\",\n        \"description\": \"\"\n      }\n    },\n    {\n      \"column\": \"gdpPercap_2007\",\n      \"properties\": {\n        \"dtype\": \"number\",\n        \"std\": 12712.835051259432,\n        \"min\": 2.0,\n        \"max\": 34435.36744,\n        \"num_unique_values\": 7,\n        \"samples\": [\n          2.0,\n          29810.188275,\n          32122.7778575\n        ],\n        \"semantic_type\": \"\",\n        \"description\": \"\"\n      }\n    }\n  ]\n}"
            }
          },
          "metadata": {},
          "execution_count": 41
        }
      ]
    },
    {
      "cell_type": "code",
      "source": [
        "data_americas = pd.read_csv(\"gapminder_gdp_americas.csv\", index_col = \"country\")"
      ],
      "metadata": {
        "id": "ited9M5w6rsQ"
      },
      "execution_count": 43,
      "outputs": []
    },
    {
      "cell_type": "code",
      "source": [
        "data_americas.describe()"
      ],
      "metadata": {
        "colab": {
          "base_uri": "https://localhost:8080/",
          "height": 320
        },
        "id": "wyZPpbg57FkW",
        "outputId": "3f083455-c54b-4692-c3b0-5c34c056777d"
      },
      "execution_count": 47,
      "outputs": [
        {
          "output_type": "execute_result",
          "data": {
            "text/plain": [
              "       gdpPercap_1952  gdpPercap_1957  gdpPercap_1962  gdpPercap_1967  \\\n",
              "count       25.000000       25.000000       25.000000       25.000000   \n",
              "mean      4079.062552     4616.043733     4901.541870     5668.253496   \n",
              "std       3001.727522     3312.381083     3421.740569     4160.885560   \n",
              "min       1397.717137     1544.402995     1662.137359     1452.057666   \n",
              "25%       2428.237769     2487.365989     2750.364446     3242.531147   \n",
              "50%       3048.302900     3780.546651     4086.114078     4643.393534   \n",
              "75%       3939.978789     4756.525781     5180.755910     5788.093330   \n",
              "max      13990.482080    14847.127120    16173.145860    19530.365570   \n",
              "\n",
              "       gdpPercap_1972  gdpPercap_1977  gdpPercap_1982  gdpPercap_1987  \\\n",
              "count       25.000000       25.000000       25.000000       25.000000   \n",
              "mean      6491.334139     7352.007126     7506.737088     7793.400261   \n",
              "std       4754.404329     5355.602518     5530.490471     6665.039509   \n",
              "min       1654.456946     1874.298931     2011.159549     1823.015995   \n",
              "25%       4031.408271     4756.763836     4258.503604     4140.442097   \n",
              "50%       5305.445256     6281.290855     6434.501797     6360.943444   \n",
              "75%       6809.406690     7674.929108     8997.897412     7807.095818   \n",
              "max      21806.035940    24072.632130    25009.559140    29884.350410   \n",
              "\n",
              "       gdpPercap_1992  gdpPercap_1997  gdpPercap_2002  gdpPercap_2007  \n",
              "count       25.000000       25.000000       25.000000       25.000000  \n",
              "mean      8044.934406     8889.300863     9287.677107    11003.031625  \n",
              "std       7047.089191     7874.225145     8895.817785     9713.209302  \n",
              "min       1456.309517     1341.726931     1270.364932     1201.637154  \n",
              "25%       4439.450840     4684.313807     4858.347495     5728.353514  \n",
              "50%       6618.743050     7113.692252     6994.774861     8948.102923  \n",
              "75%       8137.004775     9767.297530     8797.640716    11977.574960  \n",
              "max      32003.932240    35767.433030    39097.099550    42951.653090  "
            ],
            "text/html": [
              "\n",
              "  <div id=\"df-20e659fc-f35b-4419-a951-39a7759420c3\" class=\"colab-df-container\">\n",
              "    <div>\n",
              "<style scoped>\n",
              "    .dataframe tbody tr th:only-of-type {\n",
              "        vertical-align: middle;\n",
              "    }\n",
              "\n",
              "    .dataframe tbody tr th {\n",
              "        vertical-align: top;\n",
              "    }\n",
              "\n",
              "    .dataframe thead th {\n",
              "        text-align: right;\n",
              "    }\n",
              "</style>\n",
              "<table border=\"1\" class=\"dataframe\">\n",
              "  <thead>\n",
              "    <tr style=\"text-align: right;\">\n",
              "      <th></th>\n",
              "      <th>gdpPercap_1952</th>\n",
              "      <th>gdpPercap_1957</th>\n",
              "      <th>gdpPercap_1962</th>\n",
              "      <th>gdpPercap_1967</th>\n",
              "      <th>gdpPercap_1972</th>\n",
              "      <th>gdpPercap_1977</th>\n",
              "      <th>gdpPercap_1982</th>\n",
              "      <th>gdpPercap_1987</th>\n",
              "      <th>gdpPercap_1992</th>\n",
              "      <th>gdpPercap_1997</th>\n",
              "      <th>gdpPercap_2002</th>\n",
              "      <th>gdpPercap_2007</th>\n",
              "    </tr>\n",
              "  </thead>\n",
              "  <tbody>\n",
              "    <tr>\n",
              "      <th>count</th>\n",
              "      <td>25.000000</td>\n",
              "      <td>25.000000</td>\n",
              "      <td>25.000000</td>\n",
              "      <td>25.000000</td>\n",
              "      <td>25.000000</td>\n",
              "      <td>25.000000</td>\n",
              "      <td>25.000000</td>\n",
              "      <td>25.000000</td>\n",
              "      <td>25.000000</td>\n",
              "      <td>25.000000</td>\n",
              "      <td>25.000000</td>\n",
              "      <td>25.000000</td>\n",
              "    </tr>\n",
              "    <tr>\n",
              "      <th>mean</th>\n",
              "      <td>4079.062552</td>\n",
              "      <td>4616.043733</td>\n",
              "      <td>4901.541870</td>\n",
              "      <td>5668.253496</td>\n",
              "      <td>6491.334139</td>\n",
              "      <td>7352.007126</td>\n",
              "      <td>7506.737088</td>\n",
              "      <td>7793.400261</td>\n",
              "      <td>8044.934406</td>\n",
              "      <td>8889.300863</td>\n",
              "      <td>9287.677107</td>\n",
              "      <td>11003.031625</td>\n",
              "    </tr>\n",
              "    <tr>\n",
              "      <th>std</th>\n",
              "      <td>3001.727522</td>\n",
              "      <td>3312.381083</td>\n",
              "      <td>3421.740569</td>\n",
              "      <td>4160.885560</td>\n",
              "      <td>4754.404329</td>\n",
              "      <td>5355.602518</td>\n",
              "      <td>5530.490471</td>\n",
              "      <td>6665.039509</td>\n",
              "      <td>7047.089191</td>\n",
              "      <td>7874.225145</td>\n",
              "      <td>8895.817785</td>\n",
              "      <td>9713.209302</td>\n",
              "    </tr>\n",
              "    <tr>\n",
              "      <th>min</th>\n",
              "      <td>1397.717137</td>\n",
              "      <td>1544.402995</td>\n",
              "      <td>1662.137359</td>\n",
              "      <td>1452.057666</td>\n",
              "      <td>1654.456946</td>\n",
              "      <td>1874.298931</td>\n",
              "      <td>2011.159549</td>\n",
              "      <td>1823.015995</td>\n",
              "      <td>1456.309517</td>\n",
              "      <td>1341.726931</td>\n",
              "      <td>1270.364932</td>\n",
              "      <td>1201.637154</td>\n",
              "    </tr>\n",
              "    <tr>\n",
              "      <th>25%</th>\n",
              "      <td>2428.237769</td>\n",
              "      <td>2487.365989</td>\n",
              "      <td>2750.364446</td>\n",
              "      <td>3242.531147</td>\n",
              "      <td>4031.408271</td>\n",
              "      <td>4756.763836</td>\n",
              "      <td>4258.503604</td>\n",
              "      <td>4140.442097</td>\n",
              "      <td>4439.450840</td>\n",
              "      <td>4684.313807</td>\n",
              "      <td>4858.347495</td>\n",
              "      <td>5728.353514</td>\n",
              "    </tr>\n",
              "    <tr>\n",
              "      <th>50%</th>\n",
              "      <td>3048.302900</td>\n",
              "      <td>3780.546651</td>\n",
              "      <td>4086.114078</td>\n",
              "      <td>4643.393534</td>\n",
              "      <td>5305.445256</td>\n",
              "      <td>6281.290855</td>\n",
              "      <td>6434.501797</td>\n",
              "      <td>6360.943444</td>\n",
              "      <td>6618.743050</td>\n",
              "      <td>7113.692252</td>\n",
              "      <td>6994.774861</td>\n",
              "      <td>8948.102923</td>\n",
              "    </tr>\n",
              "    <tr>\n",
              "      <th>75%</th>\n",
              "      <td>3939.978789</td>\n",
              "      <td>4756.525781</td>\n",
              "      <td>5180.755910</td>\n",
              "      <td>5788.093330</td>\n",
              "      <td>6809.406690</td>\n",
              "      <td>7674.929108</td>\n",
              "      <td>8997.897412</td>\n",
              "      <td>7807.095818</td>\n",
              "      <td>8137.004775</td>\n",
              "      <td>9767.297530</td>\n",
              "      <td>8797.640716</td>\n",
              "      <td>11977.574960</td>\n",
              "    </tr>\n",
              "    <tr>\n",
              "      <th>max</th>\n",
              "      <td>13990.482080</td>\n",
              "      <td>14847.127120</td>\n",
              "      <td>16173.145860</td>\n",
              "      <td>19530.365570</td>\n",
              "      <td>21806.035940</td>\n",
              "      <td>24072.632130</td>\n",
              "      <td>25009.559140</td>\n",
              "      <td>29884.350410</td>\n",
              "      <td>32003.932240</td>\n",
              "      <td>35767.433030</td>\n",
              "      <td>39097.099550</td>\n",
              "      <td>42951.653090</td>\n",
              "    </tr>\n",
              "  </tbody>\n",
              "</table>\n",
              "</div>\n",
              "    <div class=\"colab-df-buttons\">\n",
              "\n",
              "  <div class=\"colab-df-container\">\n",
              "    <button class=\"colab-df-convert\" onclick=\"convertToInteractive('df-20e659fc-f35b-4419-a951-39a7759420c3')\"\n",
              "            title=\"Convert this dataframe to an interactive table.\"\n",
              "            style=\"display:none;\">\n",
              "\n",
              "  <svg xmlns=\"http://www.w3.org/2000/svg\" height=\"24px\" viewBox=\"0 -960 960 960\">\n",
              "    <path d=\"M120-120v-720h720v720H120Zm60-500h600v-160H180v160Zm220 220h160v-160H400v160Zm0 220h160v-160H400v160ZM180-400h160v-160H180v160Zm440 0h160v-160H620v160ZM180-180h160v-160H180v160Zm440 0h160v-160H620v160Z\"/>\n",
              "  </svg>\n",
              "    </button>\n",
              "\n",
              "  <style>\n",
              "    .colab-df-container {\n",
              "      display:flex;\n",
              "      gap: 12px;\n",
              "    }\n",
              "\n",
              "    .colab-df-convert {\n",
              "      background-color: #E8F0FE;\n",
              "      border: none;\n",
              "      border-radius: 50%;\n",
              "      cursor: pointer;\n",
              "      display: none;\n",
              "      fill: #1967D2;\n",
              "      height: 32px;\n",
              "      padding: 0 0 0 0;\n",
              "      width: 32px;\n",
              "    }\n",
              "\n",
              "    .colab-df-convert:hover {\n",
              "      background-color: #E2EBFA;\n",
              "      box-shadow: 0px 1px 2px rgba(60, 64, 67, 0.3), 0px 1px 3px 1px rgba(60, 64, 67, 0.15);\n",
              "      fill: #174EA6;\n",
              "    }\n",
              "\n",
              "    .colab-df-buttons div {\n",
              "      margin-bottom: 4px;\n",
              "    }\n",
              "\n",
              "    [theme=dark] .colab-df-convert {\n",
              "      background-color: #3B4455;\n",
              "      fill: #D2E3FC;\n",
              "    }\n",
              "\n",
              "    [theme=dark] .colab-df-convert:hover {\n",
              "      background-color: #434B5C;\n",
              "      box-shadow: 0px 1px 3px 1px rgba(0, 0, 0, 0.15);\n",
              "      filter: drop-shadow(0px 1px 2px rgba(0, 0, 0, 0.3));\n",
              "      fill: #FFFFFF;\n",
              "    }\n",
              "  </style>\n",
              "\n",
              "    <script>\n",
              "      const buttonEl =\n",
              "        document.querySelector('#df-20e659fc-f35b-4419-a951-39a7759420c3 button.colab-df-convert');\n",
              "      buttonEl.style.display =\n",
              "        google.colab.kernel.accessAllowed ? 'block' : 'none';\n",
              "\n",
              "      async function convertToInteractive(key) {\n",
              "        const element = document.querySelector('#df-20e659fc-f35b-4419-a951-39a7759420c3');\n",
              "        const dataTable =\n",
              "          await google.colab.kernel.invokeFunction('convertToInteractive',\n",
              "                                                    [key], {});\n",
              "        if (!dataTable) return;\n",
              "\n",
              "        const docLinkHtml = 'Like what you see? Visit the ' +\n",
              "          '<a target=\"_blank\" href=https://colab.research.google.com/notebooks/data_table.ipynb>data table notebook</a>'\n",
              "          + ' to learn more about interactive tables.';\n",
              "        element.innerHTML = '';\n",
              "        dataTable['output_type'] = 'display_data';\n",
              "        await google.colab.output.renderOutput(dataTable, element);\n",
              "        const docLink = document.createElement('div');\n",
              "        docLink.innerHTML = docLinkHtml;\n",
              "        element.appendChild(docLink);\n",
              "      }\n",
              "    </script>\n",
              "  </div>\n",
              "\n",
              "\n",
              "    <div id=\"df-6d417d36-fa51-4d7c-9d71-2ed27f54f1bb\">\n",
              "      <button class=\"colab-df-quickchart\" onclick=\"quickchart('df-6d417d36-fa51-4d7c-9d71-2ed27f54f1bb')\"\n",
              "                title=\"Suggest charts\"\n",
              "                style=\"display:none;\">\n",
              "\n",
              "<svg xmlns=\"http://www.w3.org/2000/svg\" height=\"24px\"viewBox=\"0 0 24 24\"\n",
              "     width=\"24px\">\n",
              "    <g>\n",
              "        <path d=\"M19 3H5c-1.1 0-2 .9-2 2v14c0 1.1.9 2 2 2h14c1.1 0 2-.9 2-2V5c0-1.1-.9-2-2-2zM9 17H7v-7h2v7zm4 0h-2V7h2v10zm4 0h-2v-4h2v4z\"/>\n",
              "    </g>\n",
              "</svg>\n",
              "      </button>\n",
              "\n",
              "<style>\n",
              "  .colab-df-quickchart {\n",
              "      --bg-color: #E8F0FE;\n",
              "      --fill-color: #1967D2;\n",
              "      --hover-bg-color: #E2EBFA;\n",
              "      --hover-fill-color: #174EA6;\n",
              "      --disabled-fill-color: #AAA;\n",
              "      --disabled-bg-color: #DDD;\n",
              "  }\n",
              "\n",
              "  [theme=dark] .colab-df-quickchart {\n",
              "      --bg-color: #3B4455;\n",
              "      --fill-color: #D2E3FC;\n",
              "      --hover-bg-color: #434B5C;\n",
              "      --hover-fill-color: #FFFFFF;\n",
              "      --disabled-bg-color: #3B4455;\n",
              "      --disabled-fill-color: #666;\n",
              "  }\n",
              "\n",
              "  .colab-df-quickchart {\n",
              "    background-color: var(--bg-color);\n",
              "    border: none;\n",
              "    border-radius: 50%;\n",
              "    cursor: pointer;\n",
              "    display: none;\n",
              "    fill: var(--fill-color);\n",
              "    height: 32px;\n",
              "    padding: 0;\n",
              "    width: 32px;\n",
              "  }\n",
              "\n",
              "  .colab-df-quickchart:hover {\n",
              "    background-color: var(--hover-bg-color);\n",
              "    box-shadow: 0 1px 2px rgba(60, 64, 67, 0.3), 0 1px 3px 1px rgba(60, 64, 67, 0.15);\n",
              "    fill: var(--button-hover-fill-color);\n",
              "  }\n",
              "\n",
              "  .colab-df-quickchart-complete:disabled,\n",
              "  .colab-df-quickchart-complete:disabled:hover {\n",
              "    background-color: var(--disabled-bg-color);\n",
              "    fill: var(--disabled-fill-color);\n",
              "    box-shadow: none;\n",
              "  }\n",
              "\n",
              "  .colab-df-spinner {\n",
              "    border: 2px solid var(--fill-color);\n",
              "    border-color: transparent;\n",
              "    border-bottom-color: var(--fill-color);\n",
              "    animation:\n",
              "      spin 1s steps(1) infinite;\n",
              "  }\n",
              "\n",
              "  @keyframes spin {\n",
              "    0% {\n",
              "      border-color: transparent;\n",
              "      border-bottom-color: var(--fill-color);\n",
              "      border-left-color: var(--fill-color);\n",
              "    }\n",
              "    20% {\n",
              "      border-color: transparent;\n",
              "      border-left-color: var(--fill-color);\n",
              "      border-top-color: var(--fill-color);\n",
              "    }\n",
              "    30% {\n",
              "      border-color: transparent;\n",
              "      border-left-color: var(--fill-color);\n",
              "      border-top-color: var(--fill-color);\n",
              "      border-right-color: var(--fill-color);\n",
              "    }\n",
              "    40% {\n",
              "      border-color: transparent;\n",
              "      border-right-color: var(--fill-color);\n",
              "      border-top-color: var(--fill-color);\n",
              "    }\n",
              "    60% {\n",
              "      border-color: transparent;\n",
              "      border-right-color: var(--fill-color);\n",
              "    }\n",
              "    80% {\n",
              "      border-color: transparent;\n",
              "      border-right-color: var(--fill-color);\n",
              "      border-bottom-color: var(--fill-color);\n",
              "    }\n",
              "    90% {\n",
              "      border-color: transparent;\n",
              "      border-bottom-color: var(--fill-color);\n",
              "    }\n",
              "  }\n",
              "</style>\n",
              "\n",
              "      <script>\n",
              "        async function quickchart(key) {\n",
              "          const quickchartButtonEl =\n",
              "            document.querySelector('#' + key + ' button');\n",
              "          quickchartButtonEl.disabled = true;  // To prevent multiple clicks.\n",
              "          quickchartButtonEl.classList.add('colab-df-spinner');\n",
              "          try {\n",
              "            const charts = await google.colab.kernel.invokeFunction(\n",
              "                'suggestCharts', [key], {});\n",
              "          } catch (error) {\n",
              "            console.error('Error during call to suggestCharts:', error);\n",
              "          }\n",
              "          quickchartButtonEl.classList.remove('colab-df-spinner');\n",
              "          quickchartButtonEl.classList.add('colab-df-quickchart-complete');\n",
              "        }\n",
              "        (() => {\n",
              "          let quickchartButtonEl =\n",
              "            document.querySelector('#df-6d417d36-fa51-4d7c-9d71-2ed27f54f1bb button');\n",
              "          quickchartButtonEl.style.display =\n",
              "            google.colab.kernel.accessAllowed ? 'block' : 'none';\n",
              "        })();\n",
              "      </script>\n",
              "    </div>\n",
              "\n",
              "    </div>\n",
              "  </div>\n"
            ],
            "application/vnd.google.colaboratory.intrinsic+json": {
              "type": "dataframe",
              "summary": "{\n  \"name\": \"data_americas\",\n  \"rows\": 8,\n  \"fields\": [\n    {\n      \"column\": \"gdpPercap_1952\",\n      \"properties\": {\n        \"dtype\": \"number\",\n        \"std\": 4255.480457334696,\n        \"min\": 25.0,\n        \"max\": 13990.48208,\n        \"num_unique_values\": 8,\n        \"samples\": [\n          4079.0625522,\n          3048.3029,\n          25.0\n        ],\n        \"semantic_type\": \"\",\n        \"description\": \"\"\n      }\n    },\n    {\n      \"column\": \"gdpPercap_1957\",\n      \"properties\": {\n        \"dtype\": \"number\",\n        \"std\": 4501.3097982778145,\n        \"min\": 25.0,\n        \"max\": 14847.12712,\n        \"num_unique_values\": 8,\n        \"samples\": [\n          4616.043733160001,\n          3780.546651,\n          25.0\n        ],\n        \"semantic_type\": \"\",\n        \"description\": \"\"\n      }\n    },\n    {\n      \"column\": \"gdpPercap_1962\",\n      \"properties\": {\n        \"dtype\": \"number\",\n        \"std\": 4909.987162032589,\n        \"min\": 25.0,\n        \"max\": 16173.14586,\n        \"num_unique_values\": 8,\n        \"samples\": [\n          4901.5418704,\n          4086.114078,\n          25.0\n        ],\n        \"semantic_type\": \"\",\n        \"description\": \"\"\n      }\n    },\n    {\n      \"column\": \"gdpPercap_1967\",\n      \"properties\": {\n        \"dtype\": \"number\",\n        \"std\": 5987.063534782346,\n        \"min\": 25.0,\n        \"max\": 19530.36557,\n        \"num_unique_values\": 8,\n        \"samples\": [\n          5668.25349604,\n          4643.393534,\n          25.0\n        ],\n        \"semantic_type\": \"\",\n        \"description\": \"\"\n      }\n    },\n    {\n      \"column\": \"gdpPercap_1972\",\n      \"properties\": {\n        \"dtype\": \"number\",\n        \"std\": 6656.746991299135,\n        \"min\": 25.0,\n        \"max\": 21806.03594,\n        \"num_unique_values\": 8,\n        \"samples\": [\n          6491.334139039999,\n          5305.445256,\n          25.0\n        ],\n        \"semantic_type\": \"\",\n        \"description\": \"\"\n      }\n    },\n    {\n      \"column\": \"gdpPercap_1977\",\n      \"properties\": {\n        \"dtype\": \"number\",\n        \"std\": 7319.132915579492,\n        \"min\": 25.0,\n        \"max\": 24072.63213,\n        \"num_unique_values\": 8,\n        \"samples\": [\n          7352.007126280001,\n          6281.290855,\n          25.0\n        ],\n        \"semantic_type\": \"\",\n        \"description\": \"\"\n      }\n    },\n    {\n      \"column\": \"gdpPercap_1982\",\n      \"properties\": {\n        \"dtype\": \"number\",\n        \"std\": 7656.4310771882465,\n        \"min\": 25.0,\n        \"max\": 25009.55914,\n        \"num_unique_values\": 8,\n        \"samples\": [\n          7506.73708808,\n          6434.501797,\n          25.0\n        ],\n        \"semantic_type\": \"\",\n        \"description\": \"\"\n      }\n    },\n    {\n      \"column\": \"gdpPercap_1987\",\n      \"properties\": {\n        \"dtype\": \"number\",\n        \"std\": 9258.92694222082,\n        \"min\": 25.0,\n        \"max\": 29884.35041,\n        \"num_unique_values\": 8,\n        \"samples\": [\n          7793.40026112,\n          6360.943444,\n          25.0\n        ],\n        \"semantic_type\": \"\",\n        \"description\": \"\"\n      }\n    },\n    {\n      \"column\": \"gdpPercap_1992\",\n      \"properties\": {\n        \"dtype\": \"number\",\n        \"std\": 9973.855444712515,\n        \"min\": 25.0,\n        \"max\": 32003.93224,\n        \"num_unique_values\": 8,\n        \"samples\": [\n          8044.93440552,\n          6618.74305,\n          25.0\n        ],\n        \"semantic_type\": \"\",\n        \"description\": \"\"\n      }\n    },\n    {\n      \"column\": \"gdpPercap_1997\",\n      \"properties\": {\n        \"dtype\": \"number\",\n        \"std\": 11201.070601833684,\n        \"min\": 25.0,\n        \"max\": 35767.43303,\n        \"num_unique_values\": 8,\n        \"samples\": [\n          8889.300862559998,\n          7113.692252,\n          25.0\n        ],\n        \"semantic_type\": \"\",\n        \"description\": \"\"\n      }\n    },\n    {\n      \"column\": \"gdpPercap_2002\",\n      \"properties\": {\n        \"dtype\": \"number\",\n        \"std\": 12310.935148441587,\n        \"min\": 25.0,\n        \"max\": 39097.09955,\n        \"num_unique_values\": 8,\n        \"samples\": [\n          9287.67710732,\n          6994.774861,\n          25.0\n        ],\n        \"semantic_type\": \"\",\n        \"description\": \"\"\n      }\n    },\n    {\n      \"column\": \"gdpPercap_2007\",\n      \"properties\": {\n        \"dtype\": \"number\",\n        \"std\": 13471.688133627827,\n        \"min\": 25.0,\n        \"max\": 42951.65309,\n        \"num_unique_values\": 8,\n        \"samples\": [\n          11003.03162536,\n          8948.102923,\n          25.0\n        ],\n        \"semantic_type\": \"\",\n        \"description\": \"\"\n      }\n    }\n  ]\n}"
            }
          },
          "metadata": {},
          "execution_count": 47
        }
      ]
    },
    {
      "cell_type": "code",
      "source": [
        "data_americas.tail()"
      ],
      "metadata": {
        "colab": {
          "base_uri": "https://localhost:8080/",
          "height": 327
        },
        "id": "grp266Nx7vU2",
        "outputId": "078b65ed-7573-49fa-9e90-9c6d454ab5ac"
      },
      "execution_count": 52,
      "outputs": [
        {
          "output_type": "execute_result",
          "data": {
            "text/plain": [
              "                    continent  gdpPercap_1952  gdpPercap_1957  gdpPercap_1962  \\\n",
              "country                                                                         \n",
              "Puerto Rico          Americas     3081.959785     3907.156189     5108.344630   \n",
              "Trinidad and Tobago  Americas     3023.271928     4100.393400     4997.523971   \n",
              "United States        Americas    13990.482080    14847.127120    16173.145860   \n",
              "Uruguay              Americas     5716.766744     6150.772969     5603.357717   \n",
              "Venezuela            Americas     7689.799761     9802.466526     8422.974165   \n",
              "\n",
              "                     gdpPercap_1967  gdpPercap_1972  gdpPercap_1977  \\\n",
              "country                                                               \n",
              "Puerto Rico             6929.277714     9123.041742     9770.524921   \n",
              "Trinidad and Tobago     5621.368472     6619.551419     7899.554209   \n",
              "United States          19530.365570    21806.035940    24072.632130   \n",
              "Uruguay                 5444.619620     5703.408898     6504.339663   \n",
              "Venezuela               9541.474188    10505.259660    13143.950950   \n",
              "\n",
              "                     gdpPercap_1982  gdpPercap_1987  gdpPercap_1992  \\\n",
              "country                                                               \n",
              "Puerto Rico            10330.989150    12281.341910    14641.587110   \n",
              "Trinidad and Tobago     9119.528607     7388.597823     7370.990932   \n",
              "United States          25009.559140    29884.350410    32003.932240   \n",
              "Uruguay                 6920.223051     7452.398969     8137.004775   \n",
              "Venezuela              11152.410110     9883.584648    10733.926310   \n",
              "\n",
              "                     gdpPercap_1997  gdpPercap_2002  gdpPercap_2007  \n",
              "country                                                              \n",
              "Puerto Rico            16999.433300    18855.606180     19328.70901  \n",
              "Trinidad and Tobago     8792.573126    11460.600230     18008.50924  \n",
              "United States          35767.433030    39097.099550     42951.65309  \n",
              "Uruguay                 9230.240708     7727.002004     10611.46299  \n",
              "Venezuela              10165.495180     8605.047831     11415.80569  "
            ],
            "text/html": [
              "\n",
              "  <div id=\"df-0b18b2c6-90ad-4b02-bd8e-cd5764dfba87\" class=\"colab-df-container\">\n",
              "    <div>\n",
              "<style scoped>\n",
              "    .dataframe tbody tr th:only-of-type {\n",
              "        vertical-align: middle;\n",
              "    }\n",
              "\n",
              "    .dataframe tbody tr th {\n",
              "        vertical-align: top;\n",
              "    }\n",
              "\n",
              "    .dataframe thead th {\n",
              "        text-align: right;\n",
              "    }\n",
              "</style>\n",
              "<table border=\"1\" class=\"dataframe\">\n",
              "  <thead>\n",
              "    <tr style=\"text-align: right;\">\n",
              "      <th></th>\n",
              "      <th>continent</th>\n",
              "      <th>gdpPercap_1952</th>\n",
              "      <th>gdpPercap_1957</th>\n",
              "      <th>gdpPercap_1962</th>\n",
              "      <th>gdpPercap_1967</th>\n",
              "      <th>gdpPercap_1972</th>\n",
              "      <th>gdpPercap_1977</th>\n",
              "      <th>gdpPercap_1982</th>\n",
              "      <th>gdpPercap_1987</th>\n",
              "      <th>gdpPercap_1992</th>\n",
              "      <th>gdpPercap_1997</th>\n",
              "      <th>gdpPercap_2002</th>\n",
              "      <th>gdpPercap_2007</th>\n",
              "    </tr>\n",
              "    <tr>\n",
              "      <th>country</th>\n",
              "      <th></th>\n",
              "      <th></th>\n",
              "      <th></th>\n",
              "      <th></th>\n",
              "      <th></th>\n",
              "      <th></th>\n",
              "      <th></th>\n",
              "      <th></th>\n",
              "      <th></th>\n",
              "      <th></th>\n",
              "      <th></th>\n",
              "      <th></th>\n",
              "      <th></th>\n",
              "    </tr>\n",
              "  </thead>\n",
              "  <tbody>\n",
              "    <tr>\n",
              "      <th>Puerto Rico</th>\n",
              "      <td>Americas</td>\n",
              "      <td>3081.959785</td>\n",
              "      <td>3907.156189</td>\n",
              "      <td>5108.344630</td>\n",
              "      <td>6929.277714</td>\n",
              "      <td>9123.041742</td>\n",
              "      <td>9770.524921</td>\n",
              "      <td>10330.989150</td>\n",
              "      <td>12281.341910</td>\n",
              "      <td>14641.587110</td>\n",
              "      <td>16999.433300</td>\n",
              "      <td>18855.606180</td>\n",
              "      <td>19328.70901</td>\n",
              "    </tr>\n",
              "    <tr>\n",
              "      <th>Trinidad and Tobago</th>\n",
              "      <td>Americas</td>\n",
              "      <td>3023.271928</td>\n",
              "      <td>4100.393400</td>\n",
              "      <td>4997.523971</td>\n",
              "      <td>5621.368472</td>\n",
              "      <td>6619.551419</td>\n",
              "      <td>7899.554209</td>\n",
              "      <td>9119.528607</td>\n",
              "      <td>7388.597823</td>\n",
              "      <td>7370.990932</td>\n",
              "      <td>8792.573126</td>\n",
              "      <td>11460.600230</td>\n",
              "      <td>18008.50924</td>\n",
              "    </tr>\n",
              "    <tr>\n",
              "      <th>United States</th>\n",
              "      <td>Americas</td>\n",
              "      <td>13990.482080</td>\n",
              "      <td>14847.127120</td>\n",
              "      <td>16173.145860</td>\n",
              "      <td>19530.365570</td>\n",
              "      <td>21806.035940</td>\n",
              "      <td>24072.632130</td>\n",
              "      <td>25009.559140</td>\n",
              "      <td>29884.350410</td>\n",
              "      <td>32003.932240</td>\n",
              "      <td>35767.433030</td>\n",
              "      <td>39097.099550</td>\n",
              "      <td>42951.65309</td>\n",
              "    </tr>\n",
              "    <tr>\n",
              "      <th>Uruguay</th>\n",
              "      <td>Americas</td>\n",
              "      <td>5716.766744</td>\n",
              "      <td>6150.772969</td>\n",
              "      <td>5603.357717</td>\n",
              "      <td>5444.619620</td>\n",
              "      <td>5703.408898</td>\n",
              "      <td>6504.339663</td>\n",
              "      <td>6920.223051</td>\n",
              "      <td>7452.398969</td>\n",
              "      <td>8137.004775</td>\n",
              "      <td>9230.240708</td>\n",
              "      <td>7727.002004</td>\n",
              "      <td>10611.46299</td>\n",
              "    </tr>\n",
              "    <tr>\n",
              "      <th>Venezuela</th>\n",
              "      <td>Americas</td>\n",
              "      <td>7689.799761</td>\n",
              "      <td>9802.466526</td>\n",
              "      <td>8422.974165</td>\n",
              "      <td>9541.474188</td>\n",
              "      <td>10505.259660</td>\n",
              "      <td>13143.950950</td>\n",
              "      <td>11152.410110</td>\n",
              "      <td>9883.584648</td>\n",
              "      <td>10733.926310</td>\n",
              "      <td>10165.495180</td>\n",
              "      <td>8605.047831</td>\n",
              "      <td>11415.80569</td>\n",
              "    </tr>\n",
              "  </tbody>\n",
              "</table>\n",
              "</div>\n",
              "    <div class=\"colab-df-buttons\">\n",
              "\n",
              "  <div class=\"colab-df-container\">\n",
              "    <button class=\"colab-df-convert\" onclick=\"convertToInteractive('df-0b18b2c6-90ad-4b02-bd8e-cd5764dfba87')\"\n",
              "            title=\"Convert this dataframe to an interactive table.\"\n",
              "            style=\"display:none;\">\n",
              "\n",
              "  <svg xmlns=\"http://www.w3.org/2000/svg\" height=\"24px\" viewBox=\"0 -960 960 960\">\n",
              "    <path d=\"M120-120v-720h720v720H120Zm60-500h600v-160H180v160Zm220 220h160v-160H400v160Zm0 220h160v-160H400v160ZM180-400h160v-160H180v160Zm440 0h160v-160H620v160ZM180-180h160v-160H180v160Zm440 0h160v-160H620v160Z\"/>\n",
              "  </svg>\n",
              "    </button>\n",
              "\n",
              "  <style>\n",
              "    .colab-df-container {\n",
              "      display:flex;\n",
              "      gap: 12px;\n",
              "    }\n",
              "\n",
              "    .colab-df-convert {\n",
              "      background-color: #E8F0FE;\n",
              "      border: none;\n",
              "      border-radius: 50%;\n",
              "      cursor: pointer;\n",
              "      display: none;\n",
              "      fill: #1967D2;\n",
              "      height: 32px;\n",
              "      padding: 0 0 0 0;\n",
              "      width: 32px;\n",
              "    }\n",
              "\n",
              "    .colab-df-convert:hover {\n",
              "      background-color: #E2EBFA;\n",
              "      box-shadow: 0px 1px 2px rgba(60, 64, 67, 0.3), 0px 1px 3px 1px rgba(60, 64, 67, 0.15);\n",
              "      fill: #174EA6;\n",
              "    }\n",
              "\n",
              "    .colab-df-buttons div {\n",
              "      margin-bottom: 4px;\n",
              "    }\n",
              "\n",
              "    [theme=dark] .colab-df-convert {\n",
              "      background-color: #3B4455;\n",
              "      fill: #D2E3FC;\n",
              "    }\n",
              "\n",
              "    [theme=dark] .colab-df-convert:hover {\n",
              "      background-color: #434B5C;\n",
              "      box-shadow: 0px 1px 3px 1px rgba(0, 0, 0, 0.15);\n",
              "      filter: drop-shadow(0px 1px 2px rgba(0, 0, 0, 0.3));\n",
              "      fill: #FFFFFF;\n",
              "    }\n",
              "  </style>\n",
              "\n",
              "    <script>\n",
              "      const buttonEl =\n",
              "        document.querySelector('#df-0b18b2c6-90ad-4b02-bd8e-cd5764dfba87 button.colab-df-convert');\n",
              "      buttonEl.style.display =\n",
              "        google.colab.kernel.accessAllowed ? 'block' : 'none';\n",
              "\n",
              "      async function convertToInteractive(key) {\n",
              "        const element = document.querySelector('#df-0b18b2c6-90ad-4b02-bd8e-cd5764dfba87');\n",
              "        const dataTable =\n",
              "          await google.colab.kernel.invokeFunction('convertToInteractive',\n",
              "                                                    [key], {});\n",
              "        if (!dataTable) return;\n",
              "\n",
              "        const docLinkHtml = 'Like what you see? Visit the ' +\n",
              "          '<a target=\"_blank\" href=https://colab.research.google.com/notebooks/data_table.ipynb>data table notebook</a>'\n",
              "          + ' to learn more about interactive tables.';\n",
              "        element.innerHTML = '';\n",
              "        dataTable['output_type'] = 'display_data';\n",
              "        await google.colab.output.renderOutput(dataTable, element);\n",
              "        const docLink = document.createElement('div');\n",
              "        docLink.innerHTML = docLinkHtml;\n",
              "        element.appendChild(docLink);\n",
              "      }\n",
              "    </script>\n",
              "  </div>\n",
              "\n",
              "\n",
              "    <div id=\"df-e195b005-ab74-4a44-b387-18fba0d11998\">\n",
              "      <button class=\"colab-df-quickchart\" onclick=\"quickchart('df-e195b005-ab74-4a44-b387-18fba0d11998')\"\n",
              "                title=\"Suggest charts\"\n",
              "                style=\"display:none;\">\n",
              "\n",
              "<svg xmlns=\"http://www.w3.org/2000/svg\" height=\"24px\"viewBox=\"0 0 24 24\"\n",
              "     width=\"24px\">\n",
              "    <g>\n",
              "        <path d=\"M19 3H5c-1.1 0-2 .9-2 2v14c0 1.1.9 2 2 2h14c1.1 0 2-.9 2-2V5c0-1.1-.9-2-2-2zM9 17H7v-7h2v7zm4 0h-2V7h2v10zm4 0h-2v-4h2v4z\"/>\n",
              "    </g>\n",
              "</svg>\n",
              "      </button>\n",
              "\n",
              "<style>\n",
              "  .colab-df-quickchart {\n",
              "      --bg-color: #E8F0FE;\n",
              "      --fill-color: #1967D2;\n",
              "      --hover-bg-color: #E2EBFA;\n",
              "      --hover-fill-color: #174EA6;\n",
              "      --disabled-fill-color: #AAA;\n",
              "      --disabled-bg-color: #DDD;\n",
              "  }\n",
              "\n",
              "  [theme=dark] .colab-df-quickchart {\n",
              "      --bg-color: #3B4455;\n",
              "      --fill-color: #D2E3FC;\n",
              "      --hover-bg-color: #434B5C;\n",
              "      --hover-fill-color: #FFFFFF;\n",
              "      --disabled-bg-color: #3B4455;\n",
              "      --disabled-fill-color: #666;\n",
              "  }\n",
              "\n",
              "  .colab-df-quickchart {\n",
              "    background-color: var(--bg-color);\n",
              "    border: none;\n",
              "    border-radius: 50%;\n",
              "    cursor: pointer;\n",
              "    display: none;\n",
              "    fill: var(--fill-color);\n",
              "    height: 32px;\n",
              "    padding: 0;\n",
              "    width: 32px;\n",
              "  }\n",
              "\n",
              "  .colab-df-quickchart:hover {\n",
              "    background-color: var(--hover-bg-color);\n",
              "    box-shadow: 0 1px 2px rgba(60, 64, 67, 0.3), 0 1px 3px 1px rgba(60, 64, 67, 0.15);\n",
              "    fill: var(--button-hover-fill-color);\n",
              "  }\n",
              "\n",
              "  .colab-df-quickchart-complete:disabled,\n",
              "  .colab-df-quickchart-complete:disabled:hover {\n",
              "    background-color: var(--disabled-bg-color);\n",
              "    fill: var(--disabled-fill-color);\n",
              "    box-shadow: none;\n",
              "  }\n",
              "\n",
              "  .colab-df-spinner {\n",
              "    border: 2px solid var(--fill-color);\n",
              "    border-color: transparent;\n",
              "    border-bottom-color: var(--fill-color);\n",
              "    animation:\n",
              "      spin 1s steps(1) infinite;\n",
              "  }\n",
              "\n",
              "  @keyframes spin {\n",
              "    0% {\n",
              "      border-color: transparent;\n",
              "      border-bottom-color: var(--fill-color);\n",
              "      border-left-color: var(--fill-color);\n",
              "    }\n",
              "    20% {\n",
              "      border-color: transparent;\n",
              "      border-left-color: var(--fill-color);\n",
              "      border-top-color: var(--fill-color);\n",
              "    }\n",
              "    30% {\n",
              "      border-color: transparent;\n",
              "      border-left-color: var(--fill-color);\n",
              "      border-top-color: var(--fill-color);\n",
              "      border-right-color: var(--fill-color);\n",
              "    }\n",
              "    40% {\n",
              "      border-color: transparent;\n",
              "      border-right-color: var(--fill-color);\n",
              "      border-top-color: var(--fill-color);\n",
              "    }\n",
              "    60% {\n",
              "      border-color: transparent;\n",
              "      border-right-color: var(--fill-color);\n",
              "    }\n",
              "    80% {\n",
              "      border-color: transparent;\n",
              "      border-right-color: var(--fill-color);\n",
              "      border-bottom-color: var(--fill-color);\n",
              "    }\n",
              "    90% {\n",
              "      border-color: transparent;\n",
              "      border-bottom-color: var(--fill-color);\n",
              "    }\n",
              "  }\n",
              "</style>\n",
              "\n",
              "      <script>\n",
              "        async function quickchart(key) {\n",
              "          const quickchartButtonEl =\n",
              "            document.querySelector('#' + key + ' button');\n",
              "          quickchartButtonEl.disabled = true;  // To prevent multiple clicks.\n",
              "          quickchartButtonEl.classList.add('colab-df-spinner');\n",
              "          try {\n",
              "            const charts = await google.colab.kernel.invokeFunction(\n",
              "                'suggestCharts', [key], {});\n",
              "          } catch (error) {\n",
              "            console.error('Error during call to suggestCharts:', error);\n",
              "          }\n",
              "          quickchartButtonEl.classList.remove('colab-df-spinner');\n",
              "          quickchartButtonEl.classList.add('colab-df-quickchart-complete');\n",
              "        }\n",
              "        (() => {\n",
              "          let quickchartButtonEl =\n",
              "            document.querySelector('#df-e195b005-ab74-4a44-b387-18fba0d11998 button');\n",
              "          quickchartButtonEl.style.display =\n",
              "            google.colab.kernel.accessAllowed ? 'block' : 'none';\n",
              "        })();\n",
              "      </script>\n",
              "    </div>\n",
              "\n",
              "    </div>\n",
              "  </div>\n"
            ],
            "application/vnd.google.colaboratory.intrinsic+json": {
              "type": "dataframe",
              "summary": "{\n  \"name\": \"data_americas\",\n  \"rows\": 5,\n  \"fields\": [\n    {\n      \"column\": \"country\",\n      \"properties\": {\n        \"dtype\": \"string\",\n        \"num_unique_values\": 5,\n        \"samples\": [\n          \"Trinidad and Tobago\",\n          \"Venezuela\",\n          \"United States\"\n        ],\n        \"semantic_type\": \"\",\n        \"description\": \"\"\n      }\n    },\n    {\n      \"column\": \"continent\",\n      \"properties\": {\n        \"dtype\": \"category\",\n        \"num_unique_values\": 1,\n        \"samples\": [\n          \"Americas\"\n        ],\n        \"semantic_type\": \"\",\n        \"description\": \"\"\n      }\n    },\n    {\n      \"column\": \"gdpPercap_1952\",\n      \"properties\": {\n        \"dtype\": \"number\",\n        \"std\": 4519.571977361889,\n        \"min\": 3023.271928,\n        \"max\": 13990.48208,\n        \"num_unique_values\": 5,\n        \"samples\": [\n          3023.271928\n        ],\n        \"semantic_type\": \"\",\n        \"description\": \"\"\n      }\n    },\n    {\n      \"column\": \"gdpPercap_1957\",\n      \"properties\": {\n        \"dtype\": \"number\",\n        \"std\": 4615.890090969414,\n        \"min\": 3907.156189,\n        \"max\": 14847.12712,\n        \"num_unique_values\": 5,\n        \"samples\": [\n          4100.3934\n        ],\n        \"semantic_type\": \"\",\n        \"description\": \"\"\n      }\n    },\n    {\n      \"column\": \"gdpPercap_1962\",\n      \"properties\": {\n        \"dtype\": \"number\",\n        \"std\": 4745.550558983879,\n        \"min\": 4997.523971,\n        \"max\": 16173.14586,\n        \"num_unique_values\": 5,\n        \"samples\": [\n          4997.523971\n        ],\n        \"semantic_type\": \"\",\n        \"description\": \"\"\n      }\n    },\n    {\n      \"column\": \"gdpPercap_1967\",\n      \"properties\": {\n        \"dtype\": \"number\",\n        \"std\": 5887.932143074286,\n        \"min\": 5444.61962,\n        \"max\": 19530.36557,\n        \"num_unique_values\": 5,\n        \"samples\": [\n          5621.368472\n        ],\n        \"semantic_type\": \"\",\n        \"description\": \"\"\n      }\n    },\n    {\n      \"column\": \"gdpPercap_1972\",\n      \"properties\": {\n        \"dtype\": \"number\",\n        \"std\": 6470.538970861982,\n        \"min\": 5703.408898,\n        \"max\": 21806.03594,\n        \"num_unique_values\": 5,\n        \"samples\": [\n          6619.551419\n        ],\n        \"semantic_type\": \"\",\n        \"description\": \"\"\n      }\n    },\n    {\n      \"column\": \"gdpPercap_1977\",\n      \"properties\": {\n        \"dtype\": \"number\",\n        \"std\": 7047.27944728785,\n        \"min\": 6504.339663,\n        \"max\": 24072.63213,\n        \"num_unique_values\": 5,\n        \"samples\": [\n          7899.554209\n        ],\n        \"semantic_type\": \"\",\n        \"description\": \"\"\n      }\n    },\n    {\n      \"column\": \"gdpPercap_1982\",\n      \"properties\": {\n        \"dtype\": \"number\",\n        \"std\": 7168.8729955640465,\n        \"min\": 6920.223051,\n        \"max\": 25009.55914,\n        \"num_unique_values\": 5,\n        \"samples\": [\n          9119.528607\n        ],\n        \"semantic_type\": \"\",\n        \"description\": \"\"\n      }\n    },\n    {\n      \"column\": \"gdpPercap_1987\",\n      \"properties\": {\n        \"dtype\": \"number\",\n        \"std\": 9445.354512640255,\n        \"min\": 7388.597823,\n        \"max\": 29884.35041,\n        \"num_unique_values\": 5,\n        \"samples\": [\n          7388.597823\n        ],\n        \"semantic_type\": \"\",\n        \"description\": \"\"\n      }\n    },\n    {\n      \"column\": \"gdpPercap_1992\",\n      \"properties\": {\n        \"dtype\": \"number\",\n        \"std\": 10147.308241267314,\n        \"min\": 7370.990932,\n        \"max\": 32003.93224,\n        \"num_unique_values\": 5,\n        \"samples\": [\n          7370.990932\n        ],\n        \"semantic_type\": \"\",\n        \"description\": \"\"\n      }\n    },\n    {\n      \"column\": \"gdpPercap_1997\",\n      \"properties\": {\n        \"dtype\": \"number\",\n        \"std\": 11438.814329284829,\n        \"min\": 8792.573126,\n        \"max\": 35767.43303,\n        \"num_unique_values\": 5,\n        \"samples\": [\n          8792.573126\n        ],\n        \"semantic_type\": \"\",\n        \"description\": \"\"\n      }\n    },\n    {\n      \"column\": \"gdpPercap_2002\",\n      \"properties\": {\n        \"dtype\": \"number\",\n        \"std\": 13026.536716747954,\n        \"min\": 7727.002004,\n        \"max\": 39097.09955,\n        \"num_unique_values\": 5,\n        \"samples\": [\n          11460.60023\n        ],\n        \"semantic_type\": \"\",\n        \"description\": \"\"\n      }\n    },\n    {\n      \"column\": \"gdpPercap_2007\",\n      \"properties\": {\n        \"dtype\": \"number\",\n        \"std\": 13152.520336666032,\n        \"min\": 10611.46299,\n        \"max\": 42951.65309,\n        \"num_unique_values\": 5,\n        \"samples\": [\n          18008.50924\n        ],\n        \"semantic_type\": \"\",\n        \"description\": \"\"\n      }\n    }\n  ]\n}"
            }
          },
          "metadata": {},
          "execution_count": 52
        }
      ]
    },
    {
      "cell_type": "code",
      "source": [
        "data = pd.read_csv('gapminder_gdp_europe.csv', index_col='country')\n",
        "print(data.iloc[0,0])"
      ],
      "metadata": {
        "colab": {
          "base_uri": "https://localhost:8080/"
        },
        "id": "xBYpgSaG8D0y",
        "outputId": "af2294e0-080b-4946-a8c9-a8b32883b3bc"
      },
      "execution_count": 56,
      "outputs": [
        {
          "output_type": "stream",
          "name": "stdout",
          "text": [
            "1601.056136\n"
          ]
        }
      ]
    },
    {
      "cell_type": "code",
      "source": [
        "print(data.loc[\"Albania\", \"gdpPercap_1952\"])"
      ],
      "metadata": {
        "colab": {
          "base_uri": "https://localhost:8080/"
        },
        "id": "GKXK2nBVCwO8",
        "outputId": "af2ff4de-0c38-4fea-9c50-fbcc77c1b2bf"
      },
      "execution_count": 58,
      "outputs": [
        {
          "output_type": "stream",
          "name": "stdout",
          "text": [
            "1601.056136\n"
          ]
        }
      ]
    },
    {
      "cell_type": "code",
      "source": [
        "print(data.loc[\"Albania\"])"
      ],
      "metadata": {
        "colab": {
          "base_uri": "https://localhost:8080/"
        },
        "id": "CQj5D8GpDA47",
        "outputId": "b6542ff3-6564-420d-c5d4-914fab742fe8"
      },
      "execution_count": 60,
      "outputs": [
        {
          "output_type": "stream",
          "name": "stdout",
          "text": [
            "gdpPercap_1952    1601.056136\n",
            "gdpPercap_1957    1942.284244\n",
            "gdpPercap_1962    2312.888958\n",
            "gdpPercap_1967    2760.196931\n",
            "gdpPercap_1972    3313.422188\n",
            "gdpPercap_1977    3533.003910\n",
            "gdpPercap_1982    3630.880722\n",
            "gdpPercap_1987    3738.932735\n",
            "gdpPercap_1992    2497.437901\n",
            "gdpPercap_1997    3193.054604\n",
            "gdpPercap_2002    4604.211737\n",
            "gdpPercap_2007    5937.029526\n",
            "Name: Albania, dtype: float64\n"
          ]
        }
      ]
    },
    {
      "cell_type": "code",
      "source": [
        "print(data.loc[:, \"gdpPercap_1952\"])"
      ],
      "metadata": {
        "colab": {
          "base_uri": "https://localhost:8080/"
        },
        "id": "6c38RidWDWmT",
        "outputId": "8a002d9e-3462-4e7e-be31-c9ca8f9e5404"
      },
      "execution_count": 66,
      "outputs": [
        {
          "output_type": "stream",
          "name": "stdout",
          "text": [
            "country\n",
            "Albania                    1601.056136\n",
            "Austria                    6137.076492\n",
            "Belgium                    8343.105127\n",
            "Bosnia and Herzegovina      973.533195\n",
            "Bulgaria                   2444.286648\n",
            "Croatia                    3119.236520\n",
            "Czech Republic             6876.140250\n",
            "Denmark                    9692.385245\n",
            "Finland                    6424.519071\n",
            "France                     7029.809327\n",
            "Germany                    7144.114393\n",
            "Greece                     3530.690067\n",
            "Hungary                    5263.673816\n",
            "Iceland                    7267.688428\n",
            "Ireland                    5210.280328\n",
            "Italy                      4931.404155\n",
            "Montenegro                 2647.585601\n",
            "Netherlands                8941.571858\n",
            "Norway                    10095.421720\n",
            "Poland                     4029.329699\n",
            "Portugal                   3068.319867\n",
            "Romania                    3144.613186\n",
            "Serbia                     3581.459448\n",
            "Slovak Republic            5074.659104\n",
            "Slovenia                   4215.041741\n",
            "Spain                      3834.034742\n",
            "Sweden                     8527.844662\n",
            "Switzerland               14734.232750\n",
            "Turkey                     1969.100980\n",
            "United Kingdom             9979.508487\n",
            "Name: gdpPercap_1952, dtype: float64\n"
          ]
        }
      ]
    },
    {
      "cell_type": "code",
      "source": [
        "subset = data.loc['Italy':'Poland', 'gdpPercap_1962':'gdpPercap_1972']\n",
        "print('Subset of data:\\n', subset)"
      ],
      "metadata": {
        "colab": {
          "base_uri": "https://localhost:8080/"
        },
        "id": "xsLTDt3hD5wl",
        "outputId": "ca1d669f-5966-4abb-acc0-99d2fe81982a"
      },
      "execution_count": 67,
      "outputs": [
        {
          "output_type": "stream",
          "name": "stdout",
          "text": [
            "Subset of data:\n",
            "              gdpPercap_1962  gdpPercap_1967  gdpPercap_1972\n",
            "country                                                    \n",
            "Italy           8243.582340    10022.401310    12269.273780\n",
            "Montenegro      4649.593785     5907.850937     7778.414017\n",
            "Netherlands    12790.849560    15363.251360    18794.745670\n",
            "Norway         13450.401510    16361.876470    18965.055510\n",
            "Poland          5338.752143     6557.152776     8006.506993\n"
          ]
        }
      ]
    },
    {
      "cell_type": "code",
      "source": [
        "# use \\n for new line\n",
        "print('\\nWhere are values large?\\n', subset > 10000)"
      ],
      "metadata": {
        "colab": {
          "base_uri": "https://localhost:8080/"
        },
        "id": "_yAsDxCNE66-",
        "outputId": "82f2016c-78c0-41b1-a9d9-1a602f5d057d"
      },
      "execution_count": 68,
      "outputs": [
        {
          "output_type": "stream",
          "name": "stdout",
          "text": [
            "\n",
            "Where are values large?\n",
            "              gdpPercap_1962  gdpPercap_1967  gdpPercap_1972\n",
            "country                                                    \n",
            "Italy                 False            True            True\n",
            "Montenegro            False           False           False\n",
            "Netherlands            True            True            True\n",
            "Norway                 True            True            True\n",
            "Poland                False           False           False\n"
          ]
        }
      ]
    },
    {
      "cell_type": "code",
      "source": [
        "mask = subset > 10000\n",
        "print(subset[mask])"
      ],
      "metadata": {
        "colab": {
          "base_uri": "https://localhost:8080/"
        },
        "id": "OzQKC_08E9tZ",
        "outputId": "397f2e9c-e5ce-4cf8-caba-5c9bbd0f9126"
      },
      "execution_count": 69,
      "outputs": [
        {
          "output_type": "stream",
          "name": "stdout",
          "text": [
            "             gdpPercap_1962  gdpPercap_1967  gdpPercap_1972\n",
            "country                                                    \n",
            "Italy                   NaN     10022.40131     12269.27378\n",
            "Montenegro              NaN             NaN             NaN\n",
            "Netherlands     12790.84956     15363.25136     18794.74567\n",
            "Norway          13450.40151     16361.87647     18965.05551\n",
            "Poland                  NaN             NaN             NaN\n"
          ]
        }
      ]
    },
    {
      "cell_type": "code",
      "source": [
        "print(subset[subset > 10000].describe())"
      ],
      "metadata": {
        "colab": {
          "base_uri": "https://localhost:8080/"
        },
        "id": "Uqr4AOg1FYhg",
        "outputId": "ff2c4180-1605-4ed3-be22-70ae644bac89"
      },
      "execution_count": 70,
      "outputs": [
        {
          "output_type": "stream",
          "name": "stdout",
          "text": [
            "       gdpPercap_1962  gdpPercap_1967  gdpPercap_1972\n",
            "count        2.000000        3.000000        3.000000\n",
            "mean     13120.625535    13915.843047    16676.358320\n",
            "std        466.373656     3408.589070     3817.597015\n",
            "min      12790.849560    10022.401310    12269.273780\n",
            "25%      12955.737548    12692.826335    15532.009725\n",
            "50%      13120.625535    15363.251360    18794.745670\n",
            "75%      13285.513522    15862.563915    18879.900590\n",
            "max      13450.401510    16361.876470    18965.055510\n"
          ]
        }
      ]
    },
    {
      "cell_type": "code",
      "source": [
        "mask_higher = data > data.mean()\n",
        "wealth_score = mask_higher.aggregate(\"sum\", axis = 1)/len(data.columns)\n",
        "print(wealth_score)"
      ],
      "metadata": {
        "id": "tP6nARuaFYSD"
      },
      "execution_count": null,
      "outputs": []
    },
    {
      "cell_type": "code",
      "source": [
        "import matplotlib.pyplot as plt\n"
      ],
      "metadata": {
        "id": "HcjequENFYDW"
      },
      "execution_count": 71,
      "outputs": []
    },
    {
      "cell_type": "code",
      "source": [
        "time = [0, 1, 2, 3]\n",
        "position = [0, 100, 200, 300]\n",
        "\n",
        "plt.plot(time, position)\n",
        "plt.xlabel('Time (hr)')\n",
        "plt.ylabel('Position (km)')"
      ],
      "metadata": {
        "colab": {
          "base_uri": "https://localhost:8080/",
          "height": 467
        },
        "id": "G4qj0HAAJ9g5",
        "outputId": "0ff2516f-35b5-4578-d12d-c523c8db4cf2"
      },
      "execution_count": 72,
      "outputs": [
        {
          "output_type": "execute_result",
          "data": {
            "text/plain": [
              "Text(0, 0.5, 'Position (km)')"
            ]
          },
          "metadata": {},
          "execution_count": 72
        },
        {
          "output_type": "display_data",
          "data": {
            "text/plain": [
              "<Figure size 640x480 with 1 Axes>"
            ],
            "image/png": "[encoded data removed]"
          },
          "metadata": {}
        }
      ]
    },
    {
      "cell_type": "code",
      "source": [
        "import pandas as pd\n",
        "\n",
        "data = pd.read_csv('gapminder_gdp_oceania.csv', index_col='country')\n",
        "\n",
        "# Extract year from last 4 characters of each column name\n",
        "# The current column names are structured as 'gdpPercap_(year)',\n",
        "# so we want to keep the (year) part only for clarity when plotting GDP vs. years\n",
        "# To do this we use replace(), which removes from the string the characters stated in the argument\n",
        "# This method works on strings, so we use replace() from Pandas Series.str vectorized string functions\n",
        "\n",
        "years = data.columns.str.replace('gdpPercap_', '')\n",
        "\n",
        "# Convert year values to integers, saving results back to dataframe\n",
        "\n",
        "data.columns = years.astype(int)\n",
        "\n",
        "data.loc['Australia'].plot()"
      ],
      "metadata": {
        "colab": {
          "base_uri": "https://localhost:8080/",
          "height": 448
        },
        "id": "6dbb_PN1KJq2",
        "outputId": "aa2e1924-d399-4388-e074-b275af4ee4d1"
      },
      "execution_count": 74,
      "outputs": [
        {
          "output_type": "execute_result",
          "data": {
            "text/plain": [
              "<Axes: >"
            ]
          },
          "metadata": {},
          "execution_count": 74
        },
        {
          "output_type": "display_data",
          "data": {
            "text/plain": [
              "<Figure size 640x480 with 1 Axes>"
            ],
            "image/png": "[encoded data removed]"
          },
          "metadata": {}
        }
      ]
    },
    {
      "cell_type": "code",
      "source": [
        "data.T.plot()\n",
        "plt.ylabel(\"GDP per capita\")"
      ],
      "metadata": {
        "colab": {
          "base_uri": "https://localhost:8080/",
          "height": 448
        },
        "id": "LPN1p99ULaRU",
        "outputId": "2ee31287-68f3-4d67-98fd-d575dedce224"
      },
      "execution_count": 76,
      "outputs": [
        {
          "output_type": "execute_result",
          "data": {
            "text/plain": [
              "Text(0, 0.5, 'GDP per capita')"
            ]
          },
          "metadata": {},
          "execution_count": 76
        },
        {
          "output_type": "display_data",
          "data": {
            "text/plain": [
              "<Figure size 640x480 with 1 Axes>"
            ],
            "image/png": "[encoded data removed]"
          },
          "metadata": {}
        }
      ]
    },
    {
      "cell_type": "code",
      "source": [
        "fig = plt.gcf() # get current figure\n",
        "plt.savefig(\"my_figure.png\")"
      ],
      "metadata": {
        "colab": {
          "base_uri": "https://localhost:8080/",
          "height": 35
        },
        "id": "fMfGmLUJLweV",
        "outputId": "c354b184-6e67-4b5f-d137-1f6c78fff380"
      },
      "execution_count": 78,
      "outputs": [
        {
          "output_type": "display_data",
          "data": {
            "text/plain": [
              "<Figure size 640x480 with 0 Axes>"
            ]
          },
          "metadata": {}
        }
      ]
    },
    {
      "cell_type": "code",
      "source": [
        "pressures = [0.273, 0.275, 0.277, 0.275, 0.276]\n"
      ],
      "metadata": {
        "id": "TLzRWf41Sxvg"
      },
      "execution_count": 79,
      "outputs": []
    },
    {
      "cell_type": "code",
      "source": [
        "pressures[0] = 0.111"
      ],
      "metadata": {
        "id": "CwKsLJXYUFcU"
      },
      "execution_count": 82,
      "outputs": []
    },
    {
      "cell_type": "code",
      "source": [
        "pressures"
      ],
      "metadata": {
        "colab": {
          "base_uri": "https://localhost:8080/"
        },
        "id": "LYBsMg6fUJrW",
        "outputId": "087d766f-bc18-4777-9ae4-31355d0313f6"
      },
      "execution_count": 83,
      "outputs": [
        {
          "output_type": "execute_result",
          "data": {
            "text/plain": [
              "[0.111, 0.275, 0.277, 0.275, 0.276]"
            ]
          },
          "metadata": {},
          "execution_count": 83
        }
      ]
    },
    {
      "cell_type": "markdown",
      "source": [
        "Loops"
      ],
      "metadata": {
        "id": "sUDBWzZFWIH7"
      }
    },
    {
      "cell_type": "code",
      "source": [
        "a_list = [1, 2, 3]\n",
        "\n",
        "for number in a_list:\n",
        "  print(number)\n"
      ],
      "metadata": {
        "colab": {
          "base_uri": "https://localhost:8080/"
        },
        "id": "-1uo717BUQ9f",
        "outputId": "e5089e3e-b440-41c1-eb76-8a46f07830c4"
      },
      "execution_count": 84,
      "outputs": [
        {
          "output_type": "stream",
          "name": "stdout",
          "text": [
            "1\n",
            "2\n",
            "3\n"
          ]
        }
      ]
    },
    {
      "cell_type": "code",
      "source": [
        "for number in [1, 2, 3, 4]:\n",
        "  print(1 + number)"
      ],
      "metadata": {
        "colab": {
          "base_uri": "https://localhost:8080/"
        },
        "id": "VkGzBkqGWvKK",
        "outputId": "0d0c1ddb-fe09-4695-92db-c840dd25f3e5"
      },
      "execution_count": 85,
      "outputs": [
        {
          "output_type": "stream",
          "name": "stdout",
          "text": [
            "2\n",
            "3\n",
            "4\n",
            "5\n"
          ]
        }
      ]
    },
    {
      "cell_type": "code",
      "source": [
        "primes = [2, 3, 5]\n",
        "for p in primes:\n",
        "    squared = p ** 2\n",
        "    cubed = p ** 3\n",
        "    print(p, squared, cubed)"
      ],
      "metadata": {
        "colab": {
          "base_uri": "https://localhost:8080/"
        },
        "id": "nE_ziZaqXBRv",
        "outputId": "cdb11bdb-64c1-41a7-e083-0ee72ee2ffbb"
      },
      "execution_count": 86,
      "outputs": [
        {
          "output_type": "stream",
          "name": "stdout",
          "text": [
            "2 4 8\n",
            "3 9 27\n",
            "5 25 125\n"
          ]
        }
      ]
    },
    {
      "cell_type": "code",
      "source": [
        "print('a range is not a list: range(0, 3)')\n",
        "for number in range(0, 3):\n",
        "    print(number)"
      ],
      "metadata": {
        "colab": {
          "base_uri": "https://localhost:8080/"
        },
        "id": "Z4YOZtpYXiiq",
        "outputId": "fb73874f-83c8-4118-91a9-353abbf526d8"
      },
      "execution_count": 87,
      "outputs": [
        {
          "output_type": "stream",
          "name": "stdout",
          "text": [
            "a range is not a list: range(0, 3)\n",
            "0\n",
            "1\n",
            "2\n"
          ]
        }
      ]
    },
    {
      "cell_type": "code",
      "source": [
        "total  = 0\n",
        "for number in range(10):\n",
        "  total = total + (number + 1)\n",
        "print(total)"
      ],
      "metadata": {
        "colab": {
          "base_uri": "https://localhost:8080/"
        },
        "id": "W1V9-uWkX9S7",
        "outputId": "df7bfe29-e5a9-4439-faf1-c0d5f69952e9"
      },
      "execution_count": 89,
      "outputs": [
        {
          "output_type": "stream",
          "name": "stdout",
          "text": [
            "55\n"
          ]
        }
      ]
    },
    {
      "cell_type": "code",
      "source": [
        "masses = [1, 3, 5, 7, 3.54]\n",
        "for m in masses:\n",
        "  if m > 3.0:\n",
        "    print(m, \"is large\")\n",
        "  elif m == 3:\n",
        "      print(m, \"is medium\")\n",
        "  else:\n",
        "    print(m, \"is small\")"
      ],
      "metadata": {
        "colab": {
          "base_uri": "https://localhost:8080/"
        },
        "id": "Z7q5RbUsYhYO",
        "outputId": "92e30120-069f-4d4b-c402-5b003348e344"
      },
      "execution_count": 96,
      "outputs": [
        {
          "output_type": "stream",
          "name": "stdout",
          "text": [
            "1 is small\n",
            "3 is medium\n",
            "5 is large\n",
            "7 is large\n",
            "3.54 is large\n"
          ]
        }
      ]
    },
    {
      "cell_type": "code",
      "source": [
        "import pandas as pd\n"
      ],
      "metadata": {
        "id": "nyEzUuMbdcdH"
      },
      "execution_count": 99,
      "outputs": []
    },
    {
      "cell_type": "code",
      "source": [
        "for filename in [\"gapminder_gdp_africa.csv\", \"gapminder_gdp_asia.csv\"]:\n",
        "  data = pd.read_csv(filename, index_col = \"country\")\n",
        "  print(filename, data.min())"
      ],
      "metadata": {
        "colab": {
          "base_uri": "https://localhost:8080/"
        },
        "id": "eG-ik9jndomO",
        "outputId": "b0a4de04-347d-4b54-e1c9-f52f285ef77d"
      },
      "execution_count": 102,
      "outputs": [
        {
          "output_type": "stream",
          "name": "stdout",
          "text": [
            "gapminder_gdp_africa.csv gdpPercap_1952    298.846212\n",
            "gdpPercap_1957    335.997115\n",
            "gdpPercap_1962    355.203227\n",
            "gdpPercap_1967    412.977514\n",
            "gdpPercap_1972    464.099504\n",
            "gdpPercap_1977    502.319733\n",
            "gdpPercap_1982    462.211415\n",
            "gdpPercap_1987    389.876185\n",
            "gdpPercap_1992    410.896824\n",
            "gdpPercap_1997    312.188423\n",
            "gdpPercap_2002    241.165876\n",
            "gdpPercap_2007    277.551859\n",
            "dtype: float64\n",
            "gapminder_gdp_asia.csv gdpPercap_1952    331.0\n",
            "gdpPercap_1957    350.0\n",
            "gdpPercap_1962    388.0\n",
            "gdpPercap_1967    349.0\n",
            "gdpPercap_1972    357.0\n",
            "gdpPercap_1977    371.0\n",
            "gdpPercap_1982    424.0\n",
            "gdpPercap_1987    385.0\n",
            "gdpPercap_1992    347.0\n",
            "gdpPercap_1997    415.0\n",
            "gdpPercap_2002    611.0\n",
            "gdpPercap_2007    944.0\n",
            "dtype: float64\n"
          ]
        }
      ]
    },
    {
      "cell_type": "code",
      "source": [
        "# use glob to search for patterns\n",
        "import glob\n",
        "print(glob.glob(\"*.csv\"))"
      ],
      "metadata": {
        "colab": {
          "base_uri": "https://localhost:8080/"
        },
        "id": "tGSl40_LeQjw",
        "outputId": "30ee94a3-63d3-4072-f574-0229542170a7"
      },
      "execution_count": 105,
      "outputs": [
        {
          "output_type": "stream",
          "name": "stdout",
          "text": [
            "['gapminder_gdp_africa.csv', 'gapminder_gdp_americas.csv', 'gapminder_gdp_oceania.csv', 'gapminder_all.csv', 'gapminder_gdp_asia.csv', 'gapminder_gdp_europe.csv']\n"
          ]
        }
      ]
    },
    {
      "cell_type": "code",
      "source": [
        "def my_function(name):\n",
        "  print(\"this was done with my function,\", name)"
      ],
      "metadata": {
        "id": "g4Wpw0pBZKIf"
      },
      "execution_count": 119,
      "outputs": []
    },
    {
      "cell_type": "code",
      "source": [
        "my_function(\"jan\")"
      ],
      "metadata": {
        "colab": {
          "base_uri": "https://localhost:8080/"
        },
        "id": "XFyYvMTJfJaM",
        "outputId": "27b33012-59f1-4f4f-b8af-b31f17318ff0"
      },
      "execution_count": 120,
      "outputs": [
        {
          "output_type": "stream",
          "name": "stdout",
          "text": [
            "this was done with my function, jan\n"
          ]
        }
      ]
    },
    {
      "cell_type": "code",
      "source": [
        "def average(values):\n",
        "  if len(values) == 0:\n",
        "    return None\n",
        "  return sum(values) / len(values)"
      ],
      "metadata": {
        "id": "8NNK_4yafmsz"
      },
      "execution_count": 121,
      "outputs": []
    },
    {
      "cell_type": "code",
      "source": [
        "a = average([1,3,4])\n",
        "print(\"average of actual valuers\", a)"
      ],
      "metadata": {
        "colab": {
          "base_uri": "https://localhost:8080/"
        },
        "id": "NNYRSYVth4T-",
        "outputId": "3f4d8323-bb76-4ace-cb4c-3d7d9a4c2696"
      },
      "execution_count": 123,
      "outputs": [
        {
          "output_type": "stream",
          "name": "stdout",
          "text": [
            "average of actual valuers 2.6666666666666665\n"
          ]
        }
      ]
    },
    {
      "cell_type": "code",
      "source": [],
      "metadata": {
        "id": "QyXU12AmiBxh"
      },
      "execution_count": null,
      "outputs": []
    }
  ]
}